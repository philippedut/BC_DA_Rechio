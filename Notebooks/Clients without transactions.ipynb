{
 "cells": [
  {
   "cell_type": "markdown",
   "id": "c2612ebc",
   "metadata": {},
   "source": [
    "# **BUSINESS CASE 3: Recheio Rocommendation System**  \n",
    "\n",
    "\n",
    "## 🎓 Master’s Program in Data Science & Advanced Analytics \n",
    "**Nova IMS** | March 2025   \n",
    "**Course:** Business Cases with Data Science\n",
    "\n",
    "## 👥 Team **Group A**  \n",
    "- **Alice Viegas** | 20240572  \n",
    "- **Bernardo Faria** | 20240579  \n",
    "- **Dinis Pinto** | 20240612  \n",
    "- **Daan van Holten** | 20240681\n",
    "- **Philippe Dutranoit** | 20240518"
   ]
  },
  {
   "cell_type": "markdown",
   "id": "bc0d19ee",
   "metadata": {},
   "source": [
    "## 📊 Project Overview  \n",
    "This notebook utilizes the following datasets:  \n",
    "- Case3_Recheio_2025 (1).xlsx <br>\n",
    "- The goal of the project is to design a recomendation system so that the company can propose better products to existing costumers."
   ]
  },
  {
   "cell_type": "markdown",
   "id": "dd4a5a28",
   "metadata": {},
   "source": [
    "## 📊 Goal of the notebook\n",
    "\n",
    "In this notebook we will make recomendations for the clients for with we have no transaction information. <br>"
   ]
  },
  {
   "cell_type": "markdown",
   "id": "e98003d5",
   "metadata": {},
   "source": [
    "**Table of Contents** <br>\n",
    "* [1. Initial Setup and DataLoading](#setup)\n",
    "* [2. Best Seller Recommendations](#best)\n",
    "* [3. Export](#export)"
   ]
  },
  {
   "cell_type": "markdown",
   "id": "2d99aadd",
   "metadata": {},
   "source": [
    "<hr>\n",
    "<a class=\"anchor\" id=\"setup\">\n",
    "\n",
    " ## 1. Initial Setup and Data Loading\n",
    " </a>"
   ]
  },
  {
   "cell_type": "code",
   "execution_count": 39,
   "id": "22cdd2f1",
   "metadata": {},
   "outputs": [],
   "source": [
    "#Packages\n",
    "import os\n",
    "import pandas as pd\n",
    "import numpy as np\n",
    "import matplotlib.pyplot as plt\n",
    "import seaborn as sns\n",
    "from datetime import datetime, timedelta"
   ]
  },
  {
   "cell_type": "code",
   "execution_count": null,
   "id": "2453cbd8",
   "metadata": {},
   "outputs": [],
   "source": [
    "clients_no_transactions = pd.read_csv(\"../Data/clients_without_transactions.csv\")\n",
    "df_transactions = pd.read_csv(\"../Data/df.csv\")\n",
    "products = pd.read_csv(\"../Data/products_fixed.csv\")"
   ]
  },
  {
   "cell_type": "markdown",
   "id": "dc298e59",
   "metadata": {},
   "source": [
    "<hr>\n",
    "<a class=\"anchor\" id=\"best\">\n",
    "\n",
    " ## 2. Best Seller Recommendations\n",
    " </a>"
   ]
  },
  {
   "cell_type": "code",
   "execution_count": 42,
   "id": "0d943e70",
   "metadata": {},
   "outputs": [
    {
     "name": "stdout",
     "output_type": "stream",
     "text": [
      "            sales_7d  sales_14d  sales_30d  hybrid_7_30  rank_14d  rank_hybrid\n",
      "ID Product                                                                    \n",
      "621958         234.0      470.0       1009        544.0       1.0          1.0\n",
      "879894         176.0      351.0        709        389.2       2.0          2.0\n",
      "733725          72.0      170.0        344        180.8       3.0          3.0\n",
      "890937          64.0      147.0        344        176.0       6.0          4.0\n",
      "578318          77.0      148.0        314        171.8       4.0          5.0\n",
      "915238          74.0      145.0        303        165.6       7.0          6.0\n",
      "749441          69.0      148.0        310        165.4       4.0          7.0\n",
      "659149          66.0      141.0        312        164.4       8.0          8.0\n",
      "665738          65.0      131.0        298        158.2      11.0          9.0\n",
      "370149          62.0      133.0        288        152.4      10.0         10.0\n"
     ]
    }
   ],
   "source": [
    "# Exploring some populatity rankings for 'Best Selling Products'\n",
    "\n",
    "\n",
    "df = df_transactions.copy()\n",
    "df['Date'] = pd.to_datetime(df['Date'])\n",
    "\n",
    "# Define time reference\n",
    "today = df['Date'].max()\n",
    "df['days_ago'] = (today - df['Date']).dt.days\n",
    "\n",
    "# Create masks for time windows\n",
    "mask_7d = df['days_ago'] <= 7\n",
    "mask_14d = df['days_ago'] <= 14\n",
    "mask_30d = df['days_ago'] <= 30\n",
    "\n",
    "# Count appearances per product in each period\n",
    "sales_7d = df[mask_7d]['ID Product'].value_counts().rename('sales_7d')\n",
    "sales_14d = df[mask_14d]['ID Product'].value_counts().rename('sales_14d')\n",
    "sales_30d = df[mask_30d]['ID Product'].value_counts().rename('sales_30d')\n",
    "\n",
    "# Combine\n",
    "ranking_df = pd.concat([sales_7d, sales_14d, sales_30d], axis=1).fillna(0)\n",
    "\n",
    "# Add weekly/monthly hybrid count\n",
    "ranking_df['hybrid_7_30'] = ranking_df['sales_7d'] * 0.6 + ranking_df['sales_30d'] * 0.4\n",
    "\n",
    "# Testing some rankings of products\n",
    "ranking_df['rank_14d'] = ranking_df['sales_14d'].rank(ascending=False, method='min')\n",
    "ranking_df['rank_hybrid'] = ranking_df['hybrid_7_30'].rank(ascending=False, method='min')\n",
    "\n",
    "\n",
    "print(ranking_df.sort_values('rank_hybrid').head(10))\n"
   ]
  },
  {
   "cell_type": "markdown",
   "id": "f2ec86f5",
   "metadata": {},
   "source": [
    "Having compared a pure 14-day window with a ***hybrid 7-/30-day approach***, we opted for the latter. \n",
    "\n",
    "Prioritizing 7-day sales lets us capture fast-moving items and short-term spikes—driven by promotions, seasonality, or weather—while still incorporating 30-day data to smooth out volatility and spotlight consistently popular products. This blend keeps our recommendations both responsive and reliable, ensuring they respond to emerging trends without sacrificing the stability of proven best-sellers—perfect for a supermarket with varied, rapidly changing demand. "
   ]
  },
  {
   "cell_type": "code",
   "execution_count": null,
   "id": "777d4a29",
   "metadata": {},
   "outputs": [],
   "source": [
    "# Sorting products by the hybrid ranking and getting the top 10 \n",
    "ranking_df.sort_values('rank_hybrid', ascending=True, inplace=True)\n",
    "top10_IDs = ranking_df.head(10).index"
   ]
  },
  {
   "cell_type": "code",
   "execution_count": 47,
   "id": "b102e658",
   "metadata": {},
   "outputs": [
    {
     "data": {
      "text/html": [
       "<div>\n",
       "<style scoped>\n",
       "    .dataframe tbody tr th:only-of-type {\n",
       "        vertical-align: middle;\n",
       "    }\n",
       "\n",
       "    .dataframe tbody tr th {\n",
       "        vertical-align: top;\n",
       "    }\n",
       "\n",
       "    .dataframe thead th {\n",
       "        text-align: right;\n",
       "    }\n",
       "</style>\n",
       "<table border=\"1\" class=\"dataframe\">\n",
       "  <thead>\n",
       "    <tr style=\"text-align: right;\">\n",
       "      <th></th>\n",
       "      <th>ID Product</th>\n",
       "      <th>Product Description</th>\n",
       "      <th>ID Product Category</th>\n",
       "    </tr>\n",
       "  </thead>\n",
       "  <tbody>\n",
       "    <tr>\n",
       "      <th>7</th>\n",
       "      <td>370149</td>\n",
       "      <td>CENOURA SC10KG (CAL25/40) RCH</td>\n",
       "      <td>LEGUMES FRESCOS</td>\n",
       "    </tr>\n",
       "    <tr>\n",
       "      <th>10</th>\n",
       "      <td>621958</td>\n",
       "      <td>LEITE MCHEF UHT M/GORDO LT</td>\n",
       "      <td>LEITE UHT REGULAR</td>\n",
       "    </tr>\n",
       "    <tr>\n",
       "      <th>26</th>\n",
       "      <td>578318</td>\n",
       "      <td>OLEO ALIMENTAR MCHEF 10 LT</td>\n",
       "      <td>ÓLEOS</td>\n",
       "    </tr>\n",
       "    <tr>\n",
       "      <th>52</th>\n",
       "      <td>879894</td>\n",
       "      <td>ACUCAR AMANH BCO PAP KG</td>\n",
       "      <td>AÇÚCAR</td>\n",
       "    </tr>\n",
       "    <tr>\n",
       "      <th>104</th>\n",
       "      <td>915238</td>\n",
       "      <td>DET LOICA MCHEF 10LT</td>\n",
       "      <td>DETERGENTE LOIÇA</td>\n",
       "    </tr>\n",
       "    <tr>\n",
       "      <th>157</th>\n",
       "      <td>665738</td>\n",
       "      <td>VINAGRE AMANHECER DE VINHO BRANCO 1000M</td>\n",
       "      <td>VINAGRES</td>\n",
       "    </tr>\n",
       "    <tr>\n",
       "      <th>170</th>\n",
       "      <td>890937</td>\n",
       "      <td>LIXIVIA MCHEF TRADICIONAL 5LT</td>\n",
       "      <td>LIXÍVIAS TRADICIONAIS</td>\n",
       "    </tr>\n",
       "    <tr>\n",
       "      <th>289</th>\n",
       "      <td>659149</td>\n",
       "      <td>FARINHA AMANH S/FERMENTO 1KG</td>\n",
       "      <td>FARINHAS</td>\n",
       "    </tr>\n",
       "    <tr>\n",
       "      <th>1454</th>\n",
       "      <td>749441</td>\n",
       "      <td>AGUA MINERAL CALDAS DE PENACOVA 5LT</td>\n",
       "      <td>ÁGUAS LISAS</td>\n",
       "    </tr>\n",
       "    <tr>\n",
       "      <th>3708</th>\n",
       "      <td>733725</td>\n",
       "      <td>OVO AGRO OVO M 15DUZ IND</td>\n",
       "      <td>OVOS GAIOLA</td>\n",
       "    </tr>\n",
       "  </tbody>\n",
       "</table>\n",
       "</div>"
      ],
      "text/plain": [
       "      ID Product                      Product Description  \\\n",
       "7         370149            CENOURA SC10KG (CAL25/40) RCH   \n",
       "10        621958               LEITE MCHEF UHT M/GORDO LT   \n",
       "26        578318               OLEO ALIMENTAR MCHEF 10 LT   \n",
       "52        879894                  ACUCAR AMANH BCO PAP KG   \n",
       "104       915238                     DET LOICA MCHEF 10LT   \n",
       "157       665738  VINAGRE AMANHECER DE VINHO BRANCO 1000M   \n",
       "170       890937            LIXIVIA MCHEF TRADICIONAL 5LT   \n",
       "289       659149             FARINHA AMANH S/FERMENTO 1KG   \n",
       "1454      749441      AGUA MINERAL CALDAS DE PENACOVA 5LT   \n",
       "3708      733725                 OVO AGRO OVO M 15DUZ IND   \n",
       "\n",
       "        ID Product Category  \n",
       "7           LEGUMES FRESCOS  \n",
       "10        LEITE UHT REGULAR  \n",
       "26                    ÓLEOS  \n",
       "52                   AÇÚCAR  \n",
       "104        DETERGENTE LOIÇA  \n",
       "157                VINAGRES  \n",
       "170   LIXÍVIAS TRADICIONAIS  \n",
       "289                FARINHAS  \n",
       "1454            ÁGUAS LISAS  \n",
       "3708            OVOS GAIOLA  "
      ]
     },
     "execution_count": 47,
     "metadata": {},
     "output_type": "execute_result"
    }
   ],
   "source": [
    "top10 = products[products['ID Product'].isin(top10_IDs)]\n",
    "top10"
   ]
  },
  {
   "cell_type": "markdown",
   "id": "fa26fb16",
   "metadata": {},
   "source": [
    "For clients without any transaction history, these will be the top 10 recommended products based on overall popularity. This list will update dynamically over time to reflect the most recent trends."
   ]
  },
  {
   "cell_type": "markdown",
   "id": "3784b7b0",
   "metadata": {},
   "source": [
    "<hr>\n",
    "<a class=\"anchor\" id=\"export\">\n",
    "\n",
    "## 3. Export\n",
    "</a>"
   ]
  },
  {
   "cell_type": "code",
   "execution_count": 48,
   "id": "d3113458",
   "metadata": {},
   "outputs": [],
   "source": [
    "top10.to_csv('../Data/recommendations_clients_no_transactions.csv', index=False)"
   ]
  }
 ],
 "metadata": {
  "kernelspec": {
   "display_name": "base",
   "language": "python",
   "name": "python3"
  },
  "language_info": {
   "codemirror_mode": {
    "name": "ipython",
    "version": 3
   },
   "file_extension": ".py",
   "mimetype": "text/x-python",
   "name": "python",
   "nbconvert_exporter": "python",
   "pygments_lexer": "ipython3",
   "version": "3.12.3"
  }
 },
 "nbformat": 4,
 "nbformat_minor": 5
}
