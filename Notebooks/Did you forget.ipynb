{
 "cells": [
  {
   "cell_type": "markdown",
   "id": "e557cc53",
   "metadata": {},
   "source": [
    "## **BUSINESS CASE 3: Recheio Rocommendation System**  \n",
    "\n",
    "\n",
    "## 🎓 Master’s Program in Data Science & Advanced Analytics \n",
    "**Nova IMS** | March 2025   \n",
    "**Course:** Business Cases with Data Science\n",
    "\n",
    "## 👥 Team **Group A**  \n",
    "- **Alice Viegas** | 20240572  \n",
    "- **Bernardo Faria** | 20240579  \n",
    "- **Dinis Pinto** | 20240612  \n",
    "- **Daan van Holten** | 20240681\n",
    "- **Philippe Dutranoit** | 20240518"
   ]
  },
  {
   "cell_type": "markdown",
   "id": "282d2ee4",
   "metadata": {},
   "source": [
    "## 📊 Project Overview  \n",
    "This notebook uses the Case3_Recheio_2025 (1).xlsx dataset to build a recommendation system that helps Recheio suggest better products to existing customers.\n",
    "\n",
    "It addresses two key challenges:<br>\n",
    "—  How to enrich customer data for more accurate recommendations.<br>\n",
    "—  How to deliver relevant suggestions across available sales channels. <br>"
   ]
  },
  {
   "cell_type": "markdown",
   "id": "215d2b30",
   "metadata": {},
   "source": [
    "## 📊 Goal of the notebook\n",
    "\n",
    "In this notebook, we develop product recommendations for the checkout stage. These recommendations address the \"Did You Forget?\" problem by suggesting additional products based on the items already in the customer's basket, using product similarity and historical purchasing habits. <br>"
   ]
  },
  {
   "cell_type": "markdown",
   "id": "04651870",
   "metadata": {},
   "source": [
    "# Imports"
   ]
  },
  {
   "cell_type": "code",
   "execution_count": 55,
   "id": "367f4f1e",
   "metadata": {},
   "outputs": [],
   "source": [
    "import pandas as pd\n",
    "import numpy as np\n",
    "from sklearn.metrics import pairwise_distances"
   ]
  },
  {
   "cell_type": "code",
   "execution_count": 56,
   "id": "b6be508b",
   "metadata": {},
   "outputs": [],
   "source": [
    "transactions = pd.read_csv('../Data/df.csv')   \n",
    "clients_with_transactions = pd.read_csv('../Data/clients_with_transactions.csv')\n",
    "clients_without_transactions = pd.read_csv('../Data/clients_without_transactions.csv')"
   ]
  },
  {
   "cell_type": "markdown",
   "id": "2471fa27",
   "metadata": {},
   "source": [
    "# 'Did you forget?' pipeline "
   ]
  },
  {
   "cell_type": "markdown",
   "id": "a59e6a80",
   "metadata": {},
   "source": [
    "The solution to the \"Did You Forget?\" problem is designed for the checkout stage of the customer journey, when the client already has products in their basket and is about to pay. For this, we created a function that behaves differently depending on whether the client has transaction history:\n",
    "\n",
    "—  For **clients with past transactions**, we use item-based collaborative filtering with the Dice similarity metric. The function analyzes the client's previous purchases to identify products frequently bought together. Based on the items currently in the basket, it recommends additional products that tend to co-occur with them.\n",
    "\n",
    "—  For **clients without past transactions**, the function compares the current basket to those of existing clients using cosine similarity. It identifies similar customers based on basket contents and recommends products commonly bought by those similar clients."
   ]
  },
  {
   "cell_type": "code",
   "execution_count": 57,
   "id": "00b3aa2c",
   "metadata": {},
   "outputs": [],
   "source": [
    "def dyf_with_history(client_id, current_basket, df=transactions):\n",
    "    \"\"\"\n",
    "    Generate 'Did You Forget?' product recommendations at checkout for clients with past transactions.\n",
    "\n",
    "    This function uses item-based collaborative filtering with the Dice similarity metric.\n",
    "    It identifies products frequently bought together in a client’s transaction history and \n",
    "    recommends items related to those currently in the basket.\n",
    "\n",
    "    Parameters:\n",
    "    - client_id: ID of the client\n",
    "    - current_basket: List of product IDs currently in the basket\n",
    "    - df: DataFrame of past transactions (default is 'transactions')\n",
    "\n",
    "    Returns:\n",
    "    - List of up to 5 recommended product IDs\n",
    "    \"\"\"\n",
    "    \n",
    "    # Get client's past transactions\n",
    "    client_data = df[df['Client ID'] == client_id]\n",
    "    \n",
    "    # Create a binary matrix: rows = transactions, cols = products\n",
    "    transaction_product = pd.crosstab(client_data['Date'], client_data['ID Product'])\n",
    "    transaction_product = transaction_product.applymap(lambda x: 1 if x > 0 else 0)\n",
    "\n",
    "    if transaction_product.shape[1] <= 1:\n",
    "        return []  # Not enough data to compute similarities\n",
    "\n",
    "    # Transpose for item-item similarity\n",
    "    product_matrix = transaction_product.T\n",
    "\n",
    "    # Compute Dice similarity\n",
    "    similarity = 1 - pairwise_distances(product_matrix.values, metric='dice')\n",
    "    similarity_df = pd.DataFrame(similarity, index=product_matrix.index, columns=product_matrix.index)\n",
    "\n",
    "    # Aggregate similarity scores for products in current basket\n",
    "    scored_items = {}\n",
    "    for item in current_basket:\n",
    "        if item in similarity_df.columns:\n",
    "            similar_scores = similarity_df[item]\n",
    "            for prod, score in similar_scores.items():\n",
    "                if prod not in current_basket and prod != item:\n",
    "                    scored_items[prod] = scored_items.get(prod, 0) + score\n",
    "\n",
    "    # Sort and return top 5 items\n",
    "    sorted_items = sorted(scored_items.items(), key=lambda x: x[1], reverse=True)\n",
    "    recommendations = [item for item, score in sorted_items[:5]]\n",
    "    return recommendations\n",
    "\n"
   ]
  },
  {
   "cell_type": "code",
   "execution_count": 58,
   "id": "7ccbb677",
   "metadata": {},
   "outputs": [],
   "source": [
    "def dyf_without_history(current_basket, df=transactions):\n",
    "    \"\"\"\n",
    "    Generate 'Did You Forget?' product recommendations for new clients with no transaction history.\n",
    "\n",
    "    This function uses item-based collaborative filtering based on the current basket.\n",
    "    It compares the basket to those of existing clients using the Dice similarity metric,\n",
    "    finds the most similar clients, and recommends popular items from their purchases\n",
    "    that are not yet in the current basket.\n",
    "\n",
    "    Parameters:\n",
    "    - current_basket: List of product IDs currently in the basket\n",
    "    - df: DataFrame of past transactions (default is 'transactions')\n",
    "\n",
    "    Returns:\n",
    "    - List of up to 5 recommended product IDs\n",
    "    \"\"\"\n",
    "    # Create client-product binary matrix\n",
    "    client_product = pd.crosstab(df['Client ID'], df['ID Product'])\n",
    "    client_product = client_product.applymap(lambda x: 1 if x > 0 else 0)\n",
    "\n",
    "    # Create a binary vector for the current basket\n",
    "    all_products = client_product.columns\n",
    "    basket_vector = pd.Series(0, index=all_products)\n",
    "    for prod in current_basket:\n",
    "        if prod in basket_vector.index:\n",
    "            basket_vector[prod] = 1\n",
    "    basket_vector = basket_vector.values.reshape(1, -1)\n",
    "    \n",
    "    # Compute Dice similarity to all existing clients\n",
    "    distances = pairwise_distances(basket_vector, client_product.values, metric='dice')[0]\n",
    "    most_similar_indices = distances.argsort()[:5]\n",
    "    similar_clients = client_product.index[most_similar_indices]\n",
    "    \n",
    "    # Aggregate products bought by similar clients\n",
    "    similar_purchases = df[df['Client ID'].isin(similar_clients)]['ID Product']\n",
    "    recommendations = similar_purchases[~similar_purchases.isin(current_basket)]\n",
    "    top_recommendations = recommendations.value_counts().head(5).index.tolist()\n",
    "    return top_recommendations\n"
   ]
  },
  {
   "cell_type": "code",
   "execution_count": 59,
   "id": "d4b4944a",
   "metadata": {},
   "outputs": [],
   "source": [
    "def did_you_forget(client_id, current_basket, df=transactions):\n",
    "    \"\"\"\n",
    "    Main 'Did You Forget?' recommendation function that delegates to the appropriate\n",
    "    strategy depending on whether the client has past transactions.\n",
    "\n",
    "    Parameters:\n",
    "    - client_id: ID of the client\n",
    "    - current_basket: List of product IDs currently in the basket\n",
    "    - df: DataFrame of transactions (default is 'transactions')\n",
    "\n",
    "    Returns:\n",
    "    - List of up to 5 recommended product IDs\n",
    "    \"\"\"\n",
    "    if client_id in clients_with_transactions['Client ID'].values:\n",
    "        return dyf_with_history(client_id, current_basket, df)\n",
    "    elif client_id in clients_without_transactions['Client ID'].values:\n",
    "        return dyf_without_history(current_basket, df)\n",
    "    else:\n",
    "        return []\n"
   ]
  },
  {
   "cell_type": "code",
   "execution_count": 60,
   "id": "cc1c0b1c",
   "metadata": {},
   "outputs": [
    {
     "name": "stderr",
     "output_type": "stream",
     "text": [
      "/var/folders/r9/s729j1ks2qnfdsvlt9fwmqv40000gn/T/ipykernel_99645/719849851.py:23: FutureWarning: DataFrame.applymap has been deprecated. Use DataFrame.map instead.\n",
      "  transaction_product = transaction_product.applymap(lambda x: 1 if x > 0 else 0)\n",
      "/opt/anaconda3/lib/python3.12/site-packages/sklearn/metrics/pairwise.py:2466: DataConversionWarning: Data was converted to boolean for metric dice\n",
      "  warnings.warn(msg, DataConversionWarning)\n"
     ]
    },
    {
     "data": {
      "text/plain": [
       "[735588, 26322, 101583, 878080, 709303]"
      ]
     },
     "execution_count": 60,
     "metadata": {},
     "output_type": "execute_result"
    }
   ],
   "source": [
    "# Example usage (client with history):\n",
    "\n",
    "current_basket = [621958, 906800, 224780] \n",
    "did_you_forget(210100263, current_basket)"
   ]
  },
  {
   "cell_type": "code",
   "execution_count": null,
   "id": "e14c447a",
   "metadata": {},
   "outputs": [
    {
     "name": "stderr",
     "output_type": "stream",
     "text": [
      "/var/folders/r9/s729j1ks2qnfdsvlt9fwmqv40000gn/T/ipykernel_99645/3100269015.py:19: FutureWarning: DataFrame.applymap has been deprecated. Use DataFrame.map instead.\n",
      "  client_product = client_product.applymap(lambda x: 1 if x > 0 else 0)\n",
      "/opt/anaconda3/lib/python3.12/site-packages/sklearn/metrics/pairwise.py:2466: DataConversionWarning: Data was converted to boolean for metric dice\n",
      "  warnings.warn(msg, DataConversionWarning)\n"
     ]
    },
    {
     "data": {
      "text/plain": [
       "[100555, 762650, 461321, 101535, 15044]"
      ]
     },
     "execution_count": 61,
     "metadata": {},
     "output_type": "execute_result"
    }
   ],
   "source": [
    "# Example usage (client without history):\n",
    "\n",
    "did_you_forget(210100016, current_basket) "
   ]
  },
  {
   "cell_type": "code",
   "execution_count": null,
   "id": "10b5944e",
   "metadata": {},
   "outputs": [],
   "source": []
  }
 ],
 "metadata": {
  "kernelspec": {
   "display_name": "base",
   "language": "python",
   "name": "python3"
  },
  "language_info": {
   "codemirror_mode": {
    "name": "ipython",
    "version": 3
   },
   "file_extension": ".py",
   "mimetype": "text/x-python",
   "name": "python",
   "nbconvert_exporter": "python",
   "pygments_lexer": "ipython3",
   "version": "3.12.3"
  }
 },
 "nbformat": 4,
 "nbformat_minor": 5
}
