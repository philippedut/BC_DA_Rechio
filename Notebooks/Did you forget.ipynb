{
 "cells": [
  {
   "cell_type": "markdown",
   "id": "e557cc53",
   "metadata": {},
   "source": [
    "## **BUSINESS CASE 3: Recheio Rocommendation System**  \n",
    "\n",
    "\n",
    "## 🎓 Master’s Program in Data Science & Advanced Analytics \n",
    "**Nova IMS** | March 2025   \n",
    "**Course:** Business Cases with Data Science\n",
    "\n",
    "## 👥 Team **Group A**  \n",
    "- **Alice Viegas** | 20240572  \n",
    "- **Bernardo Faria** | 20240579  \n",
    "- **Dinis Pinto** | 20240612  \n",
    "- **Daan van Holten** | 20240681\n",
    "- **Philippe Dutranoit** | 20240518"
   ]
  },
  {
   "cell_type": "markdown",
   "id": "282d2ee4",
   "metadata": {},
   "source": [
    "## 📊 Project Overview  \n",
    "This notebook uses the Case3_Recheio_2025 (1).xlsx dataset to build a recommendation system that helps Recheio suggest better products to existing customers.\n",
    "\n",
    "It addresses two key challenges:<br>\n",
    "—  How to enrich customer data for more accurate recommendations.<br>\n",
    "—  How to deliver relevant suggestions across available sales channels. <br>"
   ]
  },
  {
   "cell_type": "markdown",
   "id": "215d2b30",
   "metadata": {},
   "source": [
    "## 📊 Goal of the notebook\n",
    "\n",
    "In this notebook, we develop product recommendations for the checkout stage. These recommendations address the \"Did You Forget?\" problem by suggesting additional products based on the items already in the customer's basket, using product similarity and historical purchasing habits. <br>"
   ]
  },
  {
   "cell_type": "markdown",
   "id": "04651870",
   "metadata": {},
   "source": [
    "# Imports"
   ]
  },
  {
   "cell_type": "code",
   "execution_count": 1,
   "id": "367f4f1e",
   "metadata": {},
   "outputs": [],
   "source": [
    "import pandas as pd\n",
    "import numpy as np\n",
    "from sklearn.metrics import pairwise_distances"
   ]
  },
  {
   "cell_type": "code",
   "execution_count": 3,
   "id": "b6be508b",
   "metadata": {},
   "outputs": [
    {
     "ename": "FileNotFoundError",
     "evalue": "[Errno 2] No such file or directory: '../Data/df.csv'",
     "output_type": "error",
     "traceback": [
      "\u001b[0;31m---------------------------------------------------------------------------\u001b[0m",
      "\u001b[0;31mFileNotFoundError\u001b[0m                         Traceback (most recent call last)",
      "Cell \u001b[0;32mIn[3], line 1\u001b[0m\n\u001b[0;32m----> 1\u001b[0m transactions \u001b[38;5;241m=\u001b[39m \u001b[43mpd\u001b[49m\u001b[38;5;241;43m.\u001b[39;49m\u001b[43mread_csv\u001b[49m\u001b[43m(\u001b[49m\u001b[38;5;124;43m'\u001b[39;49m\u001b[38;5;124;43m../Data/df.csv\u001b[39;49m\u001b[38;5;124;43m'\u001b[39;49m\u001b[43m)\u001b[49m   \n\u001b[1;32m      2\u001b[0m clients_with_transactions \u001b[38;5;241m=\u001b[39m pd\u001b[38;5;241m.\u001b[39mread_csv(\u001b[38;5;124m'\u001b[39m\u001b[38;5;124m../Data/clients_with_transactions.csv\u001b[39m\u001b[38;5;124m'\u001b[39m)\n\u001b[1;32m      3\u001b[0m clients_without_transactions \u001b[38;5;241m=\u001b[39m pd\u001b[38;5;241m.\u001b[39mread_csv(\u001b[38;5;124m'\u001b[39m\u001b[38;5;124m../Data/clients_without_transactions.csv\u001b[39m\u001b[38;5;124m'\u001b[39m)\n",
      "File \u001b[0;32m/opt/anaconda3/lib/python3.12/site-packages/pandas/io/parsers/readers.py:1026\u001b[0m, in \u001b[0;36mread_csv\u001b[0;34m(filepath_or_buffer, sep, delimiter, header, names, index_col, usecols, dtype, engine, converters, true_values, false_values, skipinitialspace, skiprows, skipfooter, nrows, na_values, keep_default_na, na_filter, verbose, skip_blank_lines, parse_dates, infer_datetime_format, keep_date_col, date_parser, date_format, dayfirst, cache_dates, iterator, chunksize, compression, thousands, decimal, lineterminator, quotechar, quoting, doublequote, escapechar, comment, encoding, encoding_errors, dialect, on_bad_lines, delim_whitespace, low_memory, memory_map, float_precision, storage_options, dtype_backend)\u001b[0m\n\u001b[1;32m   1013\u001b[0m kwds_defaults \u001b[38;5;241m=\u001b[39m _refine_defaults_read(\n\u001b[1;32m   1014\u001b[0m     dialect,\n\u001b[1;32m   1015\u001b[0m     delimiter,\n\u001b[0;32m   (...)\u001b[0m\n\u001b[1;32m   1022\u001b[0m     dtype_backend\u001b[38;5;241m=\u001b[39mdtype_backend,\n\u001b[1;32m   1023\u001b[0m )\n\u001b[1;32m   1024\u001b[0m kwds\u001b[38;5;241m.\u001b[39mupdate(kwds_defaults)\n\u001b[0;32m-> 1026\u001b[0m \u001b[38;5;28;01mreturn\u001b[39;00m \u001b[43m_read\u001b[49m\u001b[43m(\u001b[49m\u001b[43mfilepath_or_buffer\u001b[49m\u001b[43m,\u001b[49m\u001b[43m \u001b[49m\u001b[43mkwds\u001b[49m\u001b[43m)\u001b[49m\n",
      "File \u001b[0;32m/opt/anaconda3/lib/python3.12/site-packages/pandas/io/parsers/readers.py:620\u001b[0m, in \u001b[0;36m_read\u001b[0;34m(filepath_or_buffer, kwds)\u001b[0m\n\u001b[1;32m    617\u001b[0m _validate_names(kwds\u001b[38;5;241m.\u001b[39mget(\u001b[38;5;124m\"\u001b[39m\u001b[38;5;124mnames\u001b[39m\u001b[38;5;124m\"\u001b[39m, \u001b[38;5;28;01mNone\u001b[39;00m))\n\u001b[1;32m    619\u001b[0m \u001b[38;5;66;03m# Create the parser.\u001b[39;00m\n\u001b[0;32m--> 620\u001b[0m parser \u001b[38;5;241m=\u001b[39m \u001b[43mTextFileReader\u001b[49m\u001b[43m(\u001b[49m\u001b[43mfilepath_or_buffer\u001b[49m\u001b[43m,\u001b[49m\u001b[43m \u001b[49m\u001b[38;5;241;43m*\u001b[39;49m\u001b[38;5;241;43m*\u001b[39;49m\u001b[43mkwds\u001b[49m\u001b[43m)\u001b[49m\n\u001b[1;32m    622\u001b[0m \u001b[38;5;28;01mif\u001b[39;00m chunksize \u001b[38;5;129;01mor\u001b[39;00m iterator:\n\u001b[1;32m    623\u001b[0m     \u001b[38;5;28;01mreturn\u001b[39;00m parser\n",
      "File \u001b[0;32m/opt/anaconda3/lib/python3.12/site-packages/pandas/io/parsers/readers.py:1620\u001b[0m, in \u001b[0;36mTextFileReader.__init__\u001b[0;34m(self, f, engine, **kwds)\u001b[0m\n\u001b[1;32m   1617\u001b[0m     \u001b[38;5;28mself\u001b[39m\u001b[38;5;241m.\u001b[39moptions[\u001b[38;5;124m\"\u001b[39m\u001b[38;5;124mhas_index_names\u001b[39m\u001b[38;5;124m\"\u001b[39m] \u001b[38;5;241m=\u001b[39m kwds[\u001b[38;5;124m\"\u001b[39m\u001b[38;5;124mhas_index_names\u001b[39m\u001b[38;5;124m\"\u001b[39m]\n\u001b[1;32m   1619\u001b[0m \u001b[38;5;28mself\u001b[39m\u001b[38;5;241m.\u001b[39mhandles: IOHandles \u001b[38;5;241m|\u001b[39m \u001b[38;5;28;01mNone\u001b[39;00m \u001b[38;5;241m=\u001b[39m \u001b[38;5;28;01mNone\u001b[39;00m\n\u001b[0;32m-> 1620\u001b[0m \u001b[38;5;28mself\u001b[39m\u001b[38;5;241m.\u001b[39m_engine \u001b[38;5;241m=\u001b[39m \u001b[38;5;28;43mself\u001b[39;49m\u001b[38;5;241;43m.\u001b[39;49m\u001b[43m_make_engine\u001b[49m\u001b[43m(\u001b[49m\u001b[43mf\u001b[49m\u001b[43m,\u001b[49m\u001b[43m \u001b[49m\u001b[38;5;28;43mself\u001b[39;49m\u001b[38;5;241;43m.\u001b[39;49m\u001b[43mengine\u001b[49m\u001b[43m)\u001b[49m\n",
      "File \u001b[0;32m/opt/anaconda3/lib/python3.12/site-packages/pandas/io/parsers/readers.py:1880\u001b[0m, in \u001b[0;36mTextFileReader._make_engine\u001b[0;34m(self, f, engine)\u001b[0m\n\u001b[1;32m   1878\u001b[0m     \u001b[38;5;28;01mif\u001b[39;00m \u001b[38;5;124m\"\u001b[39m\u001b[38;5;124mb\u001b[39m\u001b[38;5;124m\"\u001b[39m \u001b[38;5;129;01mnot\u001b[39;00m \u001b[38;5;129;01min\u001b[39;00m mode:\n\u001b[1;32m   1879\u001b[0m         mode \u001b[38;5;241m+\u001b[39m\u001b[38;5;241m=\u001b[39m \u001b[38;5;124m\"\u001b[39m\u001b[38;5;124mb\u001b[39m\u001b[38;5;124m\"\u001b[39m\n\u001b[0;32m-> 1880\u001b[0m \u001b[38;5;28mself\u001b[39m\u001b[38;5;241m.\u001b[39mhandles \u001b[38;5;241m=\u001b[39m \u001b[43mget_handle\u001b[49m\u001b[43m(\u001b[49m\n\u001b[1;32m   1881\u001b[0m \u001b[43m    \u001b[49m\u001b[43mf\u001b[49m\u001b[43m,\u001b[49m\n\u001b[1;32m   1882\u001b[0m \u001b[43m    \u001b[49m\u001b[43mmode\u001b[49m\u001b[43m,\u001b[49m\n\u001b[1;32m   1883\u001b[0m \u001b[43m    \u001b[49m\u001b[43mencoding\u001b[49m\u001b[38;5;241;43m=\u001b[39;49m\u001b[38;5;28;43mself\u001b[39;49m\u001b[38;5;241;43m.\u001b[39;49m\u001b[43moptions\u001b[49m\u001b[38;5;241;43m.\u001b[39;49m\u001b[43mget\u001b[49m\u001b[43m(\u001b[49m\u001b[38;5;124;43m\"\u001b[39;49m\u001b[38;5;124;43mencoding\u001b[39;49m\u001b[38;5;124;43m\"\u001b[39;49m\u001b[43m,\u001b[49m\u001b[43m \u001b[49m\u001b[38;5;28;43;01mNone\u001b[39;49;00m\u001b[43m)\u001b[49m\u001b[43m,\u001b[49m\n\u001b[1;32m   1884\u001b[0m \u001b[43m    \u001b[49m\u001b[43mcompression\u001b[49m\u001b[38;5;241;43m=\u001b[39;49m\u001b[38;5;28;43mself\u001b[39;49m\u001b[38;5;241;43m.\u001b[39;49m\u001b[43moptions\u001b[49m\u001b[38;5;241;43m.\u001b[39;49m\u001b[43mget\u001b[49m\u001b[43m(\u001b[49m\u001b[38;5;124;43m\"\u001b[39;49m\u001b[38;5;124;43mcompression\u001b[39;49m\u001b[38;5;124;43m\"\u001b[39;49m\u001b[43m,\u001b[49m\u001b[43m \u001b[49m\u001b[38;5;28;43;01mNone\u001b[39;49;00m\u001b[43m)\u001b[49m\u001b[43m,\u001b[49m\n\u001b[1;32m   1885\u001b[0m \u001b[43m    \u001b[49m\u001b[43mmemory_map\u001b[49m\u001b[38;5;241;43m=\u001b[39;49m\u001b[38;5;28;43mself\u001b[39;49m\u001b[38;5;241;43m.\u001b[39;49m\u001b[43moptions\u001b[49m\u001b[38;5;241;43m.\u001b[39;49m\u001b[43mget\u001b[49m\u001b[43m(\u001b[49m\u001b[38;5;124;43m\"\u001b[39;49m\u001b[38;5;124;43mmemory_map\u001b[39;49m\u001b[38;5;124;43m\"\u001b[39;49m\u001b[43m,\u001b[49m\u001b[43m \u001b[49m\u001b[38;5;28;43;01mFalse\u001b[39;49;00m\u001b[43m)\u001b[49m\u001b[43m,\u001b[49m\n\u001b[1;32m   1886\u001b[0m \u001b[43m    \u001b[49m\u001b[43mis_text\u001b[49m\u001b[38;5;241;43m=\u001b[39;49m\u001b[43mis_text\u001b[49m\u001b[43m,\u001b[49m\n\u001b[1;32m   1887\u001b[0m \u001b[43m    \u001b[49m\u001b[43merrors\u001b[49m\u001b[38;5;241;43m=\u001b[39;49m\u001b[38;5;28;43mself\u001b[39;49m\u001b[38;5;241;43m.\u001b[39;49m\u001b[43moptions\u001b[49m\u001b[38;5;241;43m.\u001b[39;49m\u001b[43mget\u001b[49m\u001b[43m(\u001b[49m\u001b[38;5;124;43m\"\u001b[39;49m\u001b[38;5;124;43mencoding_errors\u001b[39;49m\u001b[38;5;124;43m\"\u001b[39;49m\u001b[43m,\u001b[49m\u001b[43m \u001b[49m\u001b[38;5;124;43m\"\u001b[39;49m\u001b[38;5;124;43mstrict\u001b[39;49m\u001b[38;5;124;43m\"\u001b[39;49m\u001b[43m)\u001b[49m\u001b[43m,\u001b[49m\n\u001b[1;32m   1888\u001b[0m \u001b[43m    \u001b[49m\u001b[43mstorage_options\u001b[49m\u001b[38;5;241;43m=\u001b[39;49m\u001b[38;5;28;43mself\u001b[39;49m\u001b[38;5;241;43m.\u001b[39;49m\u001b[43moptions\u001b[49m\u001b[38;5;241;43m.\u001b[39;49m\u001b[43mget\u001b[49m\u001b[43m(\u001b[49m\u001b[38;5;124;43m\"\u001b[39;49m\u001b[38;5;124;43mstorage_options\u001b[39;49m\u001b[38;5;124;43m\"\u001b[39;49m\u001b[43m,\u001b[49m\u001b[43m \u001b[49m\u001b[38;5;28;43;01mNone\u001b[39;49;00m\u001b[43m)\u001b[49m\u001b[43m,\u001b[49m\n\u001b[1;32m   1889\u001b[0m \u001b[43m\u001b[49m\u001b[43m)\u001b[49m\n\u001b[1;32m   1890\u001b[0m \u001b[38;5;28;01massert\u001b[39;00m \u001b[38;5;28mself\u001b[39m\u001b[38;5;241m.\u001b[39mhandles \u001b[38;5;129;01mis\u001b[39;00m \u001b[38;5;129;01mnot\u001b[39;00m \u001b[38;5;28;01mNone\u001b[39;00m\n\u001b[1;32m   1891\u001b[0m f \u001b[38;5;241m=\u001b[39m \u001b[38;5;28mself\u001b[39m\u001b[38;5;241m.\u001b[39mhandles\u001b[38;5;241m.\u001b[39mhandle\n",
      "File \u001b[0;32m/opt/anaconda3/lib/python3.12/site-packages/pandas/io/common.py:873\u001b[0m, in \u001b[0;36mget_handle\u001b[0;34m(path_or_buf, mode, encoding, compression, memory_map, is_text, errors, storage_options)\u001b[0m\n\u001b[1;32m    868\u001b[0m \u001b[38;5;28;01melif\u001b[39;00m \u001b[38;5;28misinstance\u001b[39m(handle, \u001b[38;5;28mstr\u001b[39m):\n\u001b[1;32m    869\u001b[0m     \u001b[38;5;66;03m# Check whether the filename is to be opened in binary mode.\u001b[39;00m\n\u001b[1;32m    870\u001b[0m     \u001b[38;5;66;03m# Binary mode does not support 'encoding' and 'newline'.\u001b[39;00m\n\u001b[1;32m    871\u001b[0m     \u001b[38;5;28;01mif\u001b[39;00m ioargs\u001b[38;5;241m.\u001b[39mencoding \u001b[38;5;129;01mand\u001b[39;00m \u001b[38;5;124m\"\u001b[39m\u001b[38;5;124mb\u001b[39m\u001b[38;5;124m\"\u001b[39m \u001b[38;5;129;01mnot\u001b[39;00m \u001b[38;5;129;01min\u001b[39;00m ioargs\u001b[38;5;241m.\u001b[39mmode:\n\u001b[1;32m    872\u001b[0m         \u001b[38;5;66;03m# Encoding\u001b[39;00m\n\u001b[0;32m--> 873\u001b[0m         handle \u001b[38;5;241m=\u001b[39m \u001b[38;5;28;43mopen\u001b[39;49m\u001b[43m(\u001b[49m\n\u001b[1;32m    874\u001b[0m \u001b[43m            \u001b[49m\u001b[43mhandle\u001b[49m\u001b[43m,\u001b[49m\n\u001b[1;32m    875\u001b[0m \u001b[43m            \u001b[49m\u001b[43mioargs\u001b[49m\u001b[38;5;241;43m.\u001b[39;49m\u001b[43mmode\u001b[49m\u001b[43m,\u001b[49m\n\u001b[1;32m    876\u001b[0m \u001b[43m            \u001b[49m\u001b[43mencoding\u001b[49m\u001b[38;5;241;43m=\u001b[39;49m\u001b[43mioargs\u001b[49m\u001b[38;5;241;43m.\u001b[39;49m\u001b[43mencoding\u001b[49m\u001b[43m,\u001b[49m\n\u001b[1;32m    877\u001b[0m \u001b[43m            \u001b[49m\u001b[43merrors\u001b[49m\u001b[38;5;241;43m=\u001b[39;49m\u001b[43merrors\u001b[49m\u001b[43m,\u001b[49m\n\u001b[1;32m    878\u001b[0m \u001b[43m            \u001b[49m\u001b[43mnewline\u001b[49m\u001b[38;5;241;43m=\u001b[39;49m\u001b[38;5;124;43m\"\u001b[39;49m\u001b[38;5;124;43m\"\u001b[39;49m\u001b[43m,\u001b[49m\n\u001b[1;32m    879\u001b[0m \u001b[43m        \u001b[49m\u001b[43m)\u001b[49m\n\u001b[1;32m    880\u001b[0m     \u001b[38;5;28;01melse\u001b[39;00m:\n\u001b[1;32m    881\u001b[0m         \u001b[38;5;66;03m# Binary mode\u001b[39;00m\n\u001b[1;32m    882\u001b[0m         handle \u001b[38;5;241m=\u001b[39m \u001b[38;5;28mopen\u001b[39m(handle, ioargs\u001b[38;5;241m.\u001b[39mmode)\n",
      "\u001b[0;31mFileNotFoundError\u001b[0m: [Errno 2] No such file or directory: '../Data/df.csv'"
     ]
    }
   ],
   "source": [
    "transactions = pd.read_csv('../Data/df.csv')   \n",
    "clients_with_transactions = pd.read_csv('../Data/clients_with_transactions.csv')\n",
    "clients_without_transactions = pd.read_csv('../Data/clients_without_transactions.csv')"
   ]
  },
  {
   "cell_type": "markdown",
   "id": "2471fa27",
   "metadata": {},
   "source": [
    "# 'Did you forget?' pipeline "
   ]
  },
  {
   "cell_type": "markdown",
   "id": "a59e6a80",
   "metadata": {},
   "source": [
    "The solution to the \"Did You Forget?\" problem is designed for the checkout stage of the customer journey, when the client already has products in their basket and is about to pay. For this, we created a function that behaves differently depending on whether the client has transaction history:\n",
    "\n",
    "—  For **clients with past transactions**, we use item-based collaborative filtering with the Dice similarity metric. The function analyzes the client's previous purchases to identify products frequently bought together. Based on the items currently in the basket, it recommends additional products that tend to co-occur with them.\n",
    "\n",
    "—  For **clients without past transactions**, the function compares the current basket to those of existing clients using cosine similarity. It identifies similar customers based on basket contents and recommends products commonly bought by those similar clients."
   ]
  },
  {
   "cell_type": "code",
   "execution_count": null,
   "id": "00b3aa2c",
   "metadata": {},
   "outputs": [],
   "source": [
    "def dyf_with_history(client_id, current_basket, df=transactions):\n",
    "    \"\"\"\n",
    "    Generate 'Did You Forget?' product recommendations at checkout for clients with past transactions.\n",
    "\n",
    "    This function uses item-based collaborative filtering with the Dice similarity metric.\n",
    "    It identifies products frequently bought together in a client’s transaction history and \n",
    "    recommends items related to those currently in the basket.\n",
    "\n",
    "    Parameters:\n",
    "    - client_id: ID of the client\n",
    "    - current_basket: List of product IDs currently in the basket\n",
    "    - df: DataFrame of past transactions (default is 'transactions')\n",
    "\n",
    "    Returns:\n",
    "    - List of up to 5 recommended product IDs\n",
    "    \"\"\"\n",
    "    \n",
    "    # Get client's past transactions\n",
    "    client_data = df[df['Client ID'] == client_id]\n",
    "    \n",
    "    # Create a binary matrix: rows = transactions, cols = products\n",
    "    transaction_product = pd.crosstab(client_data['Date'], client_data['ID Product'])\n",
    "    transaction_product = transaction_product.applymap(lambda x: 1 if x > 0 else 0)\n",
    "\n",
    "    if transaction_product.shape[1] <= 1:\n",
    "        return []  # Not enough data to compute similarities\n",
    "\n",
    "    # Transpose for item-item similarity\n",
    "    product_matrix = transaction_product.T\n",
    "\n",
    "    # Compute Dice similarity\n",
    "    similarity = 1 - pairwise_distances(product_matrix.values, metric='dice')\n",
    "    similarity_df = pd.DataFrame(similarity, index=product_matrix.index, columns=product_matrix.index)\n",
    "\n",
    "    # Aggregate similarity scores for products in current basket\n",
    "    scored_items = {}\n",
    "    for item in current_basket:\n",
    "        if item in similarity_df.columns:\n",
    "            similar_scores = similarity_df[item]\n",
    "            for prod, score in similar_scores.items():\n",
    "                if prod not in current_basket and prod != item:\n",
    "                    scored_items[prod] = scored_items.get(prod, 0) + score\n",
    "\n",
    "    # Sort and return top 5 items\n",
    "    sorted_items = sorted(scored_items.items(), key=lambda x: x[1], reverse=True)\n",
    "    recommendations = [item for item, score in sorted_items[:5]]\n",
    "    return recommendations\n",
    "\n"
   ]
  },
  {
   "cell_type": "code",
   "execution_count": null,
   "id": "7ccbb677",
   "metadata": {},
   "outputs": [],
   "source": [
    "def dyf_without_history(current_basket, df=transactions):\n",
    "    \"\"\"\n",
    "    Generate 'Did You Forget?' product recommendations for new clients with no transaction history.\n",
    "\n",
    "    This function uses item-based collaborative filtering based on the current basket.\n",
    "    It compares the basket to those of existing clients using the Dice similarity metric,\n",
    "    finds the most similar clients, and recommends popular items from their purchases\n",
    "    that are not yet in the current basket.\n",
    "\n",
    "    Parameters:\n",
    "    - current_basket: List of product IDs currently in the basket\n",
    "    - df: DataFrame of past transactions (default is 'transactions')\n",
    "\n",
    "    Returns:\n",
    "    - List of up to 5 recommended product IDs\n",
    "    \"\"\"\n",
    "    # Create client-product binary matrix\n",
    "    client_product = pd.crosstab(df['Client ID'], df['ID Product'])\n",
    "    client_product = client_product.applymap(lambda x: 1 if x > 0 else 0)\n",
    "\n",
    "    # Create a binary vector for the current basket\n",
    "    all_products = client_product.columns\n",
    "    basket_vector = pd.Series(0, index=all_products)\n",
    "    for prod in current_basket:\n",
    "        if prod in basket_vector.index:\n",
    "            basket_vector[prod] = 1\n",
    "    basket_vector = basket_vector.values.reshape(1, -1)\n",
    "    \n",
    "    # Compute Dice similarity to all existing clients\n",
    "    distances = pairwise_distances(basket_vector, client_product.values, metric='dice')[0]\n",
    "    most_similar_indices = distances.argsort()[:5]\n",
    "    similar_clients = client_product.index[most_similar_indices]\n",
    "    \n",
    "    # Aggregate products bought by similar clients\n",
    "    similar_purchases = df[df['Client ID'].isin(similar_clients)]['ID Product']\n",
    "    recommendations = similar_purchases[~similar_purchases.isin(current_basket)]\n",
    "    top_recommendations = recommendations.value_counts().head(5).index.tolist()\n",
    "    return top_recommendations\n"
   ]
  },
  {
   "cell_type": "code",
   "execution_count": null,
   "id": "d4b4944a",
   "metadata": {},
   "outputs": [],
   "source": [
    "def did_you_forget(client_id, current_basket, df=transactions):\n",
    "    \"\"\"\n",
    "    Main 'Did You Forget?' recommendation function that delegates to the appropriate\n",
    "    strategy depending on whether the client has past transactions.\n",
    "\n",
    "    Parameters:\n",
    "    - client_id: ID of the client\n",
    "    - current_basket: List of product IDs currently in the basket\n",
    "    - df: DataFrame of transactions (default is 'transactions')\n",
    "\n",
    "    Returns:\n",
    "    - List of up to 5 recommended product IDs\n",
    "    \"\"\"\n",
    "    if client_id in clients_with_transactions['Client ID'].values:\n",
    "        return dyf_with_history(client_id, current_basket, df)\n",
    "    elif client_id in clients_without_transactions['Client ID'].values:\n",
    "        return dyf_without_history(current_basket, df)\n",
    "    else:\n",
    "        return []\n"
   ]
  },
  {
   "cell_type": "code",
   "execution_count": null,
   "id": "cc1c0b1c",
   "metadata": {},
   "outputs": [
    {
     "name": "stderr",
     "output_type": "stream",
     "text": [
      "/var/folders/r9/s729j1ks2qnfdsvlt9fwmqv40000gn/T/ipykernel_99645/2191885636.py:7: FutureWarning: DataFrame.applymap has been deprecated. Use DataFrame.map instead.\n",
      "  transaction_product = transaction_product.applymap(lambda x: 1 if x > 0 else 0)\n",
      "/opt/anaconda3/lib/python3.12/site-packages/sklearn/metrics/pairwise.py:2466: DataConversionWarning: Data was converted to boolean for metric dice\n",
      "  warnings.warn(msg, DataConversionWarning)\n"
     ]
    },
    {
     "data": {
      "text/plain": [
       "[735588, 26322, 101583, 878080, 709303]"
      ]
     },
     "execution_count": 53,
     "metadata": {},
     "output_type": "execute_result"
    }
   ],
   "source": [
    "# Example usage (client with history):\n",
    "\n",
    "current_basket = [621958, 906800, 224780] \n",
    "did_you_forget(210100263, current_basket)"
   ]
  },
  {
   "cell_type": "code",
   "execution_count": null,
   "id": "e14c447a",
   "metadata": {},
   "outputs": [
    {
     "name": "stderr",
     "output_type": "stream",
     "text": [
      "/var/folders/r9/s729j1ks2qnfdsvlt9fwmqv40000gn/T/ipykernel_99645/2630020201.py:4: FutureWarning: DataFrame.applymap has been deprecated. Use DataFrame.map instead.\n",
      "  client_product = client_product.applymap(lambda x: 1 if x > 0 else 0)\n",
      "/opt/anaconda3/lib/python3.12/site-packages/sklearn/metrics/pairwise.py:2466: DataConversionWarning: Data was converted to boolean for metric dice\n",
      "  warnings.warn(msg, DataConversionWarning)\n"
     ]
    },
    {
     "data": {
      "text/plain": [
       "[100555, 762650, 461321, 101535, 15044]"
      ]
     },
     "execution_count": 54,
     "metadata": {},
     "output_type": "execute_result"
    }
   ],
   "source": [
    "# Example usage (client without history):\n",
    "did_you_forget(210100016, current_basket) "
   ]
  },
  {
   "cell_type": "code",
   "execution_count": null,
   "id": "10b5944e",
   "metadata": {},
   "outputs": [],
   "source": []
  }
 ],
 "metadata": {
  "kernelspec": {
   "display_name": "base",
   "language": "python",
   "name": "python3"
  },
  "language_info": {
   "codemirror_mode": {
    "name": "ipython",
    "version": 3
   },
   "file_extension": ".py",
   "mimetype": "text/x-python",
   "name": "python",
   "nbconvert_exporter": "python",
   "pygments_lexer": "ipython3",
   "version": "3.12.3"
  }
 },
 "nbformat": 4,
 "nbformat_minor": 5
}
