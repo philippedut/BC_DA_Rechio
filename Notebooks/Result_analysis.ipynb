{
 "cells": [
  {
   "cell_type": "markdown",
   "id": "b5bc860b",
   "metadata": {},
   "source": [
    "# **BUSINESS CASE 3: Recheio Rocommendation System**  \n",
    "\n",
    "\n",
    "## 🎓 Master’s Program in Data Science & Advanced Analytics \n",
    "**Nova IMS** | March 2025   \n",
    "**Course:** Business Cases with Data Science\n",
    "\n",
    "## 👥 Team **Group A**  \n",
    "- **Alice Viegas** | 20240572  \n",
    "- **Bernardo Faria** | 20240579  \n",
    "- **Dinis Pinto** | 20240612  \n",
    "- **Daan van Holten** | 20240681\n",
    "- **Philippe Dutranoit** | 20240518"
   ]
  },
  {
   "cell_type": "markdown",
   "id": "0bf86004",
   "metadata": {},
   "source": [
    "## 📊 Project Overview  \n",
    "This notebook uses the Case3_Recheio_2025 (1).xlsx dataset to build a recommendation system that helps Recheio suggest better products to existing customers.\n",
    "\n",
    "It addresses two key challenges:<br>\n",
    "—  How to enrich customer data for more accurate recommendations.<br>\n",
    "—  How to deliver relevant suggestions across available sales channels. <br>"
   ]
  },
  {
   "cell_type": "markdown",
   "id": "c676531b",
   "metadata": {},
   "source": [
    "## 📊 Goal of the notebook\n",
    "\n",
    "In this notebook we analyse the potential impact our recommendation system could have on Recheio business <br>"
   ]
  },
  {
   "cell_type": "markdown",
   "id": "1b940a32",
   "metadata": {},
   "source": [
    "<hr>\n",
    "<a class=\"anchor\" id=\"setup\">\n",
    "\n",
    " ## 1. Initial Setup and Data Loading\n",
    " </a>"
   ]
  },
  {
   "cell_type": "code",
   "execution_count": 1,
   "id": "18348acc",
   "metadata": {},
   "outputs": [],
   "source": [
    "import pandas as pd\n",
    "import numpy as np\n",
    "import matplotlib.pyplot as plt"
   ]
  },
  {
   "cell_type": "code",
   "execution_count": null,
   "id": "3ec50743",
   "metadata": {},
   "outputs": [],
   "source": [
    "recommendations_clients_no_transaction = pd.read_csv('../Data/recommendations_clients_no_transactions.csv')\n",
    "recommendations_clients_with_transaction = pd.read_csv('../Data/recommendations_clients_with_transactions.csv')\n",
    "clients_with_transactions = pd.read_csv('../Data/clients_with_transactions.csv')\n",
    "clients_without_transactions = pd.read_csv('../Data/clients_without_transactions.csv')\n",
    "products = pd.read_csv('../Data/products_fixed.csv')\n",
    "transactions = pd.read_csv('../Data/transactions_fixed.csv')"
   ]
  }
 ],
 "metadata": {
  "kernelspec": {
   "display_name": "DM2425",
   "language": "python",
   "name": "python3"
  },
  "language_info": {
   "codemirror_mode": {
    "name": "ipython",
    "version": 3
   },
   "file_extension": ".py",
   "mimetype": "text/x-python",
   "name": "python",
   "nbconvert_exporter": "python",
   "pygments_lexer": "ipython3",
   "version": "3.12.7"
  }
 },
 "nbformat": 4,
 "nbformat_minor": 5
}
