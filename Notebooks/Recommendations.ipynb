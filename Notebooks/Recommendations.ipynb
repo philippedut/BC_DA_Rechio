{
 "cells": [
  {
   "cell_type": "code",
   "execution_count": null,
   "id": "69f72dbc",
   "metadata": {},
   "outputs": [],
   "source": [
    "import pandas as pd\n",
    "import numpy as np\n",
    "from sklearn.metrics import pairwise_distances\n",
    "import random"
   ]
  },
  {
   "cell_type": "code",
   "execution_count": null,
   "id": "1293d888",
   "metadata": {},
   "outputs": [],
   "source": [
    "transactions = pd.read_csv('../Data/df.csv')"
   ]
  },
  {
   "cell_type": "code",
   "execution_count": null,
   "id": "1a755605",
   "metadata": {},
   "outputs": [],
   "source": [
    "transactions.info()"
   ]
  },
  {
   "cell_type": "code",
   "execution_count": null,
   "id": "19db9b62",
   "metadata": {},
   "outputs": [],
   "source": [
    "class SmartBasketRecommenderCV:\n",
    "    def __init__(self, transactions, min_train=5, min_test=1, k=10):\n",
    "        self.transactions = transactions.copy()\n",
    "        self.k = k\n",
    "        self.min_train = min_train\n",
    "        self.min_test = min_test\n",
    "\n",
    "        self.transactions['Date'] = pd.to_datetime(self.transactions['Date'])\n",
    "\n",
    "    def top_purchase_history(self, client_id, df):\n",
    "        client_data = df[df['Client ID'] == client_id]\n",
    "        top_products = (\n",
    "            client_data['ID Product']\n",
    "            .value_counts()\n",
    "            .head(5)\n",
    "            .index\n",
    "            .tolist()\n",
    "        )\n",
    "        return top_products\n",
    "\n",
    "    def collaborative_recommendations(self, client_id, interaction_matrix, df, top_n_similar=5):\n",
    "        if client_id not in interaction_matrix.index:\n",
    "            return []\n",
    "\n",
    "        client_idx = interaction_matrix.index.get_loc(client_id)\n",
    "        distance_matrix = pairwise_distances(interaction_matrix, metric='cosine')\n",
    "        distances = distance_matrix[client_idx]\n",
    "        similar_indices = distances.argsort()[1:top_n_similar+1]\n",
    "        similar_clients = interaction_matrix.index[similar_indices]\n",
    "\n",
    "        similar_purchases = df[df['Client ID'].isin(similar_clients)]['ID Product']\n",
    "        target_purchases = df[df['Client ID'] == client_id]['ID Product'].unique()\n",
    "        recommendations = similar_purchases[~similar_purchases.isin(target_purchases)]\n",
    "        return recommendations.value_counts().head(5).index.tolist()\n",
    "\n",
    "    def smart_basket(self, client_id, df, interaction_matrix):\n",
    "        hist_recs = self.top_purchase_history(client_id, df)\n",
    "        collab_recs = self.collaborative_recommendations(client_id, interaction_matrix, df)\n",
    "        final_recs = hist_recs.copy()\n",
    "        for item in collab_recs:\n",
    "            if item not in final_recs:\n",
    "                final_recs.append(item)\n",
    "            if len(final_recs) == 10:\n",
    "                break\n",
    "        return final_recs\n",
    "\n",
    "    def precision_at_k(self, train_recs, test_items):\n",
    "        if not test_items:\n",
    "            return 0.0\n",
    "        hits = len(set(train_recs[:self.k]) & set(test_items))\n",
    "        return hits / self.k\n",
    "\n",
    "    def create_interaction_matrix(self):\n",
    "        matrix = pd.crosstab(self.transactions['Client ID'], self.transactions['ID Product'])\n",
    "        return matrix.applymap(lambda x: 1 if x > 0 else 0)\n",
    "\n",
    "    def monte_carlo_cv(self, iterations=5, weeks_train=45):\n",
    "        hit_rates_all = []\n",
    "\n",
    "        for i in range(iterations):\n",
    "            earliest = self.transactions['Date'].min()\n",
    "            latest = self.transactions['Date'].max() - pd.to_timedelta(weeks_train, unit='w')\n",
    "            random_start = earliest + (latest - earliest) * random.random()\n",
    "            split_date = pd.to_datetime(random_start) + pd.to_timedelta(weeks_train, unit='w')\n",
    "\n",
    "            self.transactions['train_split'] = (self.transactions['Date'] <= split_date).astype(int)\n",
    "            train_set = self.transactions[self.transactions['train_split'] == 1]\n",
    "            test_set = self.transactions[self.transactions['train_split'] == 0]\n",
    "\n",
    "            interaction_matrix = pd.crosstab(self.transactions['Client ID'], self.transactions['ID Product'])\n",
    "            interaction_matrix = interaction_matrix.applymap(lambda x: 1 if x > 0 else 0)\n",
    "\n",
    "            valid_clients = []\n",
    "            for client_id in self.transactions['Client ID'].unique():\n",
    "                if (train_set[train_set['Client ID'] == client_id].shape[0] >= self.min_train and\n",
    "                    test_set[test_set['Client ID'] == client_id].shape[0] >= self.min_test):\n",
    "                    valid_clients.append(client_id)\n",
    "\n",
    "            hit_rates = []\n",
    "            for client_id in valid_clients:\n",
    "                train_recs = self.smart_basket(client_id, train_set, interaction_matrix)\n",
    "                test_items = test_set[test_set['Client ID'] == client_id]['ID Product'].unique().tolist()\n",
    "                hit = self.precision_at_k(train_recs, test_items)\n",
    "                hit_rates.append(hit)\n",
    "\n",
    "            mean_hit = np.mean(hit_rates)\n",
    "            hit_rates_all.append(mean_hit)\n",
    "            print(f\"Iteration {i+1}: Hit Rate = {mean_hit:.2%}\")\n",
    "\n",
    "        print(f\"\\nFinal MCCV Hit Rate: {np.mean(hit_rates_all):.2%} ± {np.std(hit_rates_all):.2%}\")\n",
    "        return hit_rates_all\n"
   ]
  },
  {
   "cell_type": "code",
   "execution_count": 179,
   "id": "74c8e6cd",
   "metadata": {},
   "outputs": [
    {
     "name": "stderr",
     "output_type": "stream",
     "text": [
      "C:\\Users\\berna\\AppData\\Local\\Temp\\ipykernel_31576\\1810706870.py:76: FutureWarning: DataFrame.applymap has been deprecated. Use DataFrame.map instead.\n",
      "  interaction_matrix = interaction_matrix.applymap(lambda x: 1 if x > 0 else 0)\n"
     ]
    },
    {
     "name": "stdout",
     "output_type": "stream",
     "text": [
      "Iteration 1: Hit Rate = 39.83%\n"
     ]
    },
    {
     "name": "stderr",
     "output_type": "stream",
     "text": [
      "C:\\Users\\berna\\AppData\\Local\\Temp\\ipykernel_31576\\1810706870.py:76: FutureWarning: DataFrame.applymap has been deprecated. Use DataFrame.map instead.\n",
      "  interaction_matrix = interaction_matrix.applymap(lambda x: 1 if x > 0 else 0)\n"
     ]
    },
    {
     "name": "stdout",
     "output_type": "stream",
     "text": [
      "Iteration 2: Hit Rate = 37.62%\n"
     ]
    },
    {
     "name": "stderr",
     "output_type": "stream",
     "text": [
      "C:\\Users\\berna\\AppData\\Local\\Temp\\ipykernel_31576\\1810706870.py:76: FutureWarning: DataFrame.applymap has been deprecated. Use DataFrame.map instead.\n",
      "  interaction_matrix = interaction_matrix.applymap(lambda x: 1 if x > 0 else 0)\n"
     ]
    },
    {
     "name": "stdout",
     "output_type": "stream",
     "text": [
      "Iteration 3: Hit Rate = 38.64%\n"
     ]
    },
    {
     "name": "stderr",
     "output_type": "stream",
     "text": [
      "C:\\Users\\berna\\AppData\\Local\\Temp\\ipykernel_31576\\1810706870.py:76: FutureWarning: DataFrame.applymap has been deprecated. Use DataFrame.map instead.\n",
      "  interaction_matrix = interaction_matrix.applymap(lambda x: 1 if x > 0 else 0)\n"
     ]
    },
    {
     "name": "stdout",
     "output_type": "stream",
     "text": [
      "Iteration 4: Hit Rate = 40.41%\n"
     ]
    },
    {
     "name": "stderr",
     "output_type": "stream",
     "text": [
      "C:\\Users\\berna\\AppData\\Local\\Temp\\ipykernel_31576\\1810706870.py:76: FutureWarning: DataFrame.applymap has been deprecated. Use DataFrame.map instead.\n",
      "  interaction_matrix = interaction_matrix.applymap(lambda x: 1 if x > 0 else 0)\n"
     ]
    },
    {
     "name": "stdout",
     "output_type": "stream",
     "text": [
      "Iteration 5: Hit Rate = 39.42%\n",
      "\n",
      "Final MCCV Hit Rate: 39.18% ± 0.97%\n"
     ]
    }
   ],
   "source": [
    "recommender = SmartBasketRecommenderCV(transactions, min_train=5, min_test=1, k=10)\n",
    "hit_rates = recommender.monte_carlo_cv(iterations=5)"
   ]
  }
 ],
 "metadata": {
  "kernelspec": {
   "display_name": "Python 3",
   "language": "python",
   "name": "python3"
  },
  "language_info": {
   "codemirror_mode": {
    "name": "ipython",
    "version": 3
   },
   "file_extension": ".py",
   "mimetype": "text/x-python",
   "name": "python",
   "nbconvert_exporter": "python",
   "pygments_lexer": "ipython3",
   "version": "3.11.9"
  }
 },
 "nbformat": 4,
 "nbformat_minor": 5
}
