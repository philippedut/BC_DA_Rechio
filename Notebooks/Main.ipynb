{
 "cells": [
  {
   "cell_type": "markdown",
   "id": "cdfd81e2",
   "metadata": {},
   "source": [
    "# **BUSINESS CASE 3: Reicheio Rocomentdation System**  \n",
    "\n",
    "\n",
    "## 🎓 Master’s Program in Data Science & Advanced Analytics \n",
    "**Nova IMS** | March 2025   \n",
    "**Course:** Business Cases with Data Science\n",
    "\n",
    "## 👥 Team **Group A**  \n",
    "- **Alice Viegas** | 20240572  \n",
    "- **Bernardo Faria** | 20240579  \n",
    "- **Dinis Pinto** | 20240612  \n",
    "- **Daan van Holten** | 20240681\n",
    "- **Philippe Dutranoit** | 20240518"
   ]
  },
  {
   "cell_type": "markdown",
   "id": "4a0d80d7",
   "metadata": {},
   "source": [
    "## 📊 Project Overview  \n",
    "This notebook utilizes the following datasets:  \n",
    "- Case3_Recheio_2025 (1).xlsx <br>\n",
    "- The gaol of the project is to design a recomendaton systems so that the company can propose better product to existing costumer "
   ]
  },
  {
   "cell_type": "markdown",
   "id": "56bfac39",
   "metadata": {},
   "source": [
    "## 📊 Goal of the notebook\n",
    "\n",
    "In this notebook we process with the EDA of the data <br>"
   ]
  },
  {
   "cell_type": "code",
   "execution_count": null,
   "id": "254e64c1",
   "metadata": {
    "vscode": {
     "languageId": "plaintext"
    }
   },
   "outputs": [],
   "source": []
  }
 ],
 "metadata": {
  "language_info": {
   "name": "python"
  }
 },
 "nbformat": 4,
 "nbformat_minor": 5
}
