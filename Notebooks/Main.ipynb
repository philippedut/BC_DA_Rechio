{
 "cells": [
  {
   "cell_type": "markdown",
   "id": "cdfd81e2",
   "metadata": {},
   "source": [
    "# **BUSINESS CASE 3: Recheio Rocommendation System**  \n",
    "\n",
    "\n",
    "## 🎓 Master’s Program in Data Science & Advanced Analytics \n",
    "**Nova IMS** | March 2025   \n",
    "**Course:** Business Cases with Data Science\n",
    "\n",
    "## 👥 Team **Group A**  \n",
    "- **Alice Viegas** | 20240572  \n",
    "- **Bernardo Faria** | 20240579  \n",
    "- **Dinis Pinto** | 20240612  \n",
    "- **Daan van Holten** | 20240681\n",
    "- **Philippe Dutranoit** | 20240518"
   ]
  },
  {
   "cell_type": "markdown",
   "id": "4a0d80d7",
   "metadata": {},
   "source": [
    "## 📊 Project Overview  \n",
    "This notebook utilizes the following datasets:  \n",
    "- Case3_Recheio_2025 (1).xlsx <br>\n",
    "- The goal of the project is to design a recomendation system so that the company can propose better products to existing costumers."
   ]
  },
  {
   "cell_type": "markdown",
   "id": "56bfac39",
   "metadata": {},
   "source": [
    "## 📊 Goal of the notebook\n",
    "\n",
    "In this notebook we process with the EDA of the data <br>"
   ]
  },
  {
   "cell_type": "markdown",
   "id": "195994eb",
   "metadata": {},
   "source": [
    "**Table of Contents** <br>\n",
    "* [1. Initial Setup and DataLoading](#setup)\n",
    "* [2. Data Understanding/Preparation](#DU/P)"
   ]
  },
  {
   "cell_type": "markdown",
   "id": "6a1f7bbc",
   "metadata": {},
   "source": [
    "<hr>\n",
    "<a class=\"anchor\" id=\"setup\">\n",
    "\n",
    " ## 1. Initial Setup and Data Loading\n",
    " </a>"
   ]
  },
  {
   "cell_type": "code",
   "execution_count": 2,
   "id": "16adac52",
   "metadata": {},
   "outputs": [],
   "source": [
    "#Packages\n",
    "import os\n",
    "import pandas as pd\n",
    "import numpy as np\n",
    "import matplotlib.pyplot as plt\n",
    "import seaborn as sns"
   ]
  },
  {
   "cell_type": "code",
   "execution_count": 3,
   "id": "b139608a",
   "metadata": {},
   "outputs": [],
   "source": [
    "# Global definitions\n",
    "baseFolder = os.getcwd()\n",
    "exportsFolder = baseFolder + os.sep +'Exports' + os.sep"
   ]
  },
  {
   "cell_type": "code",
   "execution_count": 4,
   "id": "c0d69fd7",
   "metadata": {},
   "outputs": [],
   "source": [
    "subPlots_Title_fontSize = 12\n",
    "subPlots_xAxis_fontSize = 10\n",
    "subPlots_yAxis_fontSize = 10\n",
    "subPlots_label_fontSize = 10\n",
    "heatmaps_text_fontSize = 8\n",
    "\n",
    "plots_Title_fontSize = 14\n",
    "plots_Title_textColour = 'black'\n",
    "\n",
    "plots_Legend_fontSize = 12\n",
    "plots_Legend_textColour = 'black'\n",
    "\n",
    "plots_barTexts_fontSize = 8"
   ]
  },
  {
   "cell_type": "markdown",
   "id": "b9f89091",
   "metadata": {},
   "source": [
    "Loading the data:"
   ]
  },
  {
   "cell_type": "code",
   "execution_count": 5,
   "id": "429ea12a",
   "metadata": {},
   "outputs": [],
   "source": [
    "clients = pd.read_excel('../Data/Case3_Recheio_2025 (1).xlsx', sheet_name='1. CLIENTS', usecols='B:D', skiprows=1)\n",
    "products = pd.read_excel('../Data/Case3_Recheio_2025 (1).xlsx', sheet_name='2. PRODUCTS', usecols='B:D', skiprows=1)\n",
    "transactions = pd.read_excel('../Data/Case3_Recheio_2025 (1).xlsx', sheet_name='3. TRANSACTIONS', usecols='B:D', skiprows=1)"
   ]
  },
  {
   "cell_type": "markdown",
   "id": "0bbd8fde",
   "metadata": {},
   "source": [
    "<hr>\n",
    "<a class=\"anchor\" id=\"DU/P\">\n",
    "\n",
    "## 2. Data Understanding/Preparation\n",
    "</a>"
   ]
  },
  {
   "cell_type": "markdown",
   "id": "9eea1cae",
   "metadata": {},
   "source": [
    "## **Clients**"
   ]
  },
  {
   "cell_type": "code",
   "execution_count": 10,
   "id": "e7ea38e9",
   "metadata": {},
   "outputs": [
    {
     "data": {
      "text/html": [
       "<div>\n",
       "<style scoped>\n",
       "    .dataframe tbody tr th:only-of-type {\n",
       "        vertical-align: middle;\n",
       "    }\n",
       "\n",
       "    .dataframe tbody tr th {\n",
       "        vertical-align: top;\n",
       "    }\n",
       "\n",
       "    .dataframe thead th {\n",
       "        text-align: right;\n",
       "    }\n",
       "</style>\n",
       "<table border=\"1\" class=\"dataframe\">\n",
       "  <thead>\n",
       "    <tr style=\"text-align: right;\">\n",
       "      <th></th>\n",
       "      <th>Client ID</th>\n",
       "      <th>ZIP Code</th>\n",
       "      <th>ID Client Type</th>\n",
       "    </tr>\n",
       "  </thead>\n",
       "  <tbody>\n",
       "    <tr>\n",
       "      <th>0</th>\n",
       "      <td>210100002</td>\n",
       "      <td>4049</td>\n",
       "      <td>NaN</td>\n",
       "    </tr>\n",
       "    <tr>\n",
       "      <th>1</th>\n",
       "      <td>210100003</td>\n",
       "      <td>4000</td>\n",
       "      <td>NaN</td>\n",
       "    </tr>\n",
       "    <tr>\n",
       "      <th>2</th>\n",
       "      <td>210100004</td>\n",
       "      <td>4149</td>\n",
       "      <td>NaN</td>\n",
       "    </tr>\n",
       "    <tr>\n",
       "      <th>3</th>\n",
       "      <td>210100005</td>\n",
       "      <td>4100</td>\n",
       "      <td>Hotelaria</td>\n",
       "    </tr>\n",
       "    <tr>\n",
       "      <th>4</th>\n",
       "      <td>210100006</td>\n",
       "      <td>4405</td>\n",
       "      <td>NaN</td>\n",
       "    </tr>\n",
       "  </tbody>\n",
       "</table>\n",
       "</div>"
      ],
      "text/plain": [
       "   Client ID  ZIP Code ID Client Type\n",
       "0  210100002      4049            NaN\n",
       "1  210100003      4000            NaN\n",
       "2  210100004      4149            NaN\n",
       "3  210100005      4100      Hotelaria\n",
       "4  210100006      4405            NaN"
      ]
     },
     "execution_count": 10,
     "metadata": {},
     "output_type": "execute_result"
    }
   ],
   "source": [
    "clients.head()"
   ]
  },
  {
   "cell_type": "code",
   "execution_count": 11,
   "id": "0bbde991",
   "metadata": {},
   "outputs": [
    {
     "name": "stdout",
     "output_type": "stream",
     "text": [
      "<class 'pandas.core.frame.DataFrame'>\n",
      "RangeIndex: 6462 entries, 0 to 6461\n",
      "Data columns (total 3 columns):\n",
      " #   Column          Non-Null Count  Dtype \n",
      "---  ------          --------------  ----- \n",
      " 0   Client ID       6462 non-null   int64 \n",
      " 1   ZIP Code        6462 non-null   int64 \n",
      " 2   ID Client Type  680 non-null    object\n",
      "dtypes: int64(2), object(1)\n",
      "memory usage: 151.6+ KB\n"
     ]
    }
   ],
   "source": [
    "clients.info()"
   ]
  },
  {
   "cell_type": "code",
   "execution_count": 13,
   "id": "fe0efac8",
   "metadata": {},
   "outputs": [
    {
     "data": {
      "text/html": [
       "<div>\n",
       "<style scoped>\n",
       "    .dataframe tbody tr th:only-of-type {\n",
       "        vertical-align: middle;\n",
       "    }\n",
       "\n",
       "    .dataframe tbody tr th {\n",
       "        vertical-align: top;\n",
       "    }\n",
       "\n",
       "    .dataframe thead th {\n",
       "        text-align: right;\n",
       "    }\n",
       "</style>\n",
       "<table border=\"1\" class=\"dataframe\">\n",
       "  <thead>\n",
       "    <tr style=\"text-align: right;\">\n",
       "      <th></th>\n",
       "      <th>count</th>\n",
       "      <th>unique</th>\n",
       "      <th>top</th>\n",
       "      <th>freq</th>\n",
       "      <th>mean</th>\n",
       "      <th>std</th>\n",
       "      <th>min</th>\n",
       "      <th>25%</th>\n",
       "      <th>50%</th>\n",
       "      <th>75%</th>\n",
       "      <th>max</th>\n",
       "    </tr>\n",
       "  </thead>\n",
       "  <tbody>\n",
       "    <tr>\n",
       "      <th>Client ID</th>\n",
       "      <td>6462.0</td>\n",
       "      <td>NaN</td>\n",
       "      <td>NaN</td>\n",
       "      <td>NaN</td>\n",
       "      <td>210103526.874807</td>\n",
       "      <td>5023.309391</td>\n",
       "      <td>210100002.0</td>\n",
       "      <td>210101651.25</td>\n",
       "      <td>210103331.5</td>\n",
       "      <td>210104959.75</td>\n",
       "      <td>210199949.0</td>\n",
       "    </tr>\n",
       "    <tr>\n",
       "      <th>ZIP Code</th>\n",
       "      <td>6462.0</td>\n",
       "      <td>NaN</td>\n",
       "      <td>NaN</td>\n",
       "      <td>NaN</td>\n",
       "      <td>4176.482049</td>\n",
       "      <td>760.43223</td>\n",
       "      <td>0.0</td>\n",
       "      <td>4050.0</td>\n",
       "      <td>4400.0</td>\n",
       "      <td>4470.0</td>\n",
       "      <td>9950.0</td>\n",
       "    </tr>\n",
       "    <tr>\n",
       "      <th>ID Client Type</th>\n",
       "      <td>680</td>\n",
       "      <td>26</td>\n",
       "      <td>Hotelaria</td>\n",
       "      <td>231</td>\n",
       "      <td>NaN</td>\n",
       "      <td>NaN</td>\n",
       "      <td>NaN</td>\n",
       "      <td>NaN</td>\n",
       "      <td>NaN</td>\n",
       "      <td>NaN</td>\n",
       "      <td>NaN</td>\n",
       "    </tr>\n",
       "  </tbody>\n",
       "</table>\n",
       "</div>"
      ],
      "text/plain": [
       "                 count unique        top freq              mean          std  \\\n",
       "Client ID       6462.0    NaN        NaN  NaN  210103526.874807  5023.309391   \n",
       "ZIP Code        6462.0    NaN        NaN  NaN       4176.482049    760.43223   \n",
       "ID Client Type     680     26  Hotelaria  231               NaN          NaN   \n",
       "\n",
       "                        min           25%          50%           75%  \\\n",
       "Client ID       210100002.0  210101651.25  210103331.5  210104959.75   \n",
       "ZIP Code                0.0        4050.0       4400.0        4470.0   \n",
       "ID Client Type          NaN           NaN          NaN           NaN   \n",
       "\n",
       "                        max  \n",
       "Client ID       210199949.0  \n",
       "ZIP Code             9950.0  \n",
       "ID Client Type          NaN  "
      ]
     },
     "execution_count": 13,
     "metadata": {},
     "output_type": "execute_result"
    }
   ],
   "source": [
    "clients.describe(include='all').T"
   ]
  },
  {
   "cell_type": "code",
   "execution_count": null,
   "id": "319e4d4d",
   "metadata": {},
   "outputs": [
    {
     "name": "stdout",
     "output_type": "stream",
     "text": [
      "0\n",
      "0\n"
     ]
    }
   ],
   "source": [
    "print(clients.duplicated().sum())\n",
    "print(clients['Client ID'].duplicated().sum())"
   ]
  },
  {
   "cell_type": "code",
   "execution_count": 39,
   "id": "203cdc39",
   "metadata": {},
   "outputs": [
    {
     "data": {
      "text/html": [
       "<div>\n",
       "<style scoped>\n",
       "    .dataframe tbody tr th:only-of-type {\n",
       "        vertical-align: middle;\n",
       "    }\n",
       "\n",
       "    .dataframe tbody tr th {\n",
       "        vertical-align: top;\n",
       "    }\n",
       "\n",
       "    .dataframe thead th {\n",
       "        text-align: right;\n",
       "    }\n",
       "</style>\n",
       "<table border=\"1\" class=\"dataframe\">\n",
       "  <thead>\n",
       "    <tr style=\"text-align: right;\">\n",
       "      <th></th>\n",
       "      <th>73</th>\n",
       "      <th>74</th>\n",
       "      <th>330</th>\n",
       "      <th>331</th>\n",
       "      <th>332</th>\n",
       "      <th>335</th>\n",
       "      <th>336</th>\n",
       "      <th>432</th>\n",
       "      <th>690</th>\n",
       "      <th>691</th>\n",
       "      <th>...</th>\n",
       "      <th>2511</th>\n",
       "      <th>2551</th>\n",
       "      <th>2553</th>\n",
       "      <th>2557</th>\n",
       "      <th>2570</th>\n",
       "      <th>2611</th>\n",
       "      <th>2778</th>\n",
       "      <th>3033</th>\n",
       "      <th>3034</th>\n",
       "      <th>5552</th>\n",
       "    </tr>\n",
       "  </thead>\n",
       "  <tbody>\n",
       "    <tr>\n",
       "      <th>Client ID</th>\n",
       "      <td>210100078</td>\n",
       "      <td>210100079</td>\n",
       "      <td>210100335</td>\n",
       "      <td>210100336</td>\n",
       "      <td>210100337</td>\n",
       "      <td>210100340</td>\n",
       "      <td>210100341</td>\n",
       "      <td>210100438</td>\n",
       "      <td>210100707</td>\n",
       "      <td>210100708</td>\n",
       "      <td>...</td>\n",
       "      <td>210102577</td>\n",
       "      <td>210102618</td>\n",
       "      <td>210102620</td>\n",
       "      <td>210102624</td>\n",
       "      <td>210102639</td>\n",
       "      <td>210102682</td>\n",
       "      <td>210102868</td>\n",
       "      <td>210103134</td>\n",
       "      <td>210103135</td>\n",
       "      <td>210105679</td>\n",
       "    </tr>\n",
       "    <tr>\n",
       "      <th>ZIP Code</th>\n",
       "      <td>0</td>\n",
       "      <td>0</td>\n",
       "      <td>0</td>\n",
       "      <td>0</td>\n",
       "      <td>0</td>\n",
       "      <td>0</td>\n",
       "      <td>0</td>\n",
       "      <td>0</td>\n",
       "      <td>3</td>\n",
       "      <td>1</td>\n",
       "      <td>...</td>\n",
       "      <td>0</td>\n",
       "      <td>0</td>\n",
       "      <td>0</td>\n",
       "      <td>0</td>\n",
       "      <td>0</td>\n",
       "      <td>0</td>\n",
       "      <td>0</td>\n",
       "      <td>0</td>\n",
       "      <td>0</td>\n",
       "      <td>0</td>\n",
       "    </tr>\n",
       "    <tr>\n",
       "      <th>ID Client Type</th>\n",
       "      <td>NaN</td>\n",
       "      <td>NaN</td>\n",
       "      <td>NaN</td>\n",
       "      <td>NaN</td>\n",
       "      <td>NaN</td>\n",
       "      <td>NaN</td>\n",
       "      <td>NaN</td>\n",
       "      <td>NaN</td>\n",
       "      <td>NaN</td>\n",
       "      <td>NaN</td>\n",
       "      <td>...</td>\n",
       "      <td>NaN</td>\n",
       "      <td>NaN</td>\n",
       "      <td>NaN</td>\n",
       "      <td>NaN</td>\n",
       "      <td>NaN</td>\n",
       "      <td>NaN</td>\n",
       "      <td>NaN</td>\n",
       "      <td>NaN</td>\n",
       "      <td>NaN</td>\n",
       "      <td>NaN</td>\n",
       "    </tr>\n",
       "  </tbody>\n",
       "</table>\n",
       "<p>3 rows × 38 columns</p>\n",
       "</div>"
      ],
      "text/plain": [
       "                     73         74         330        331        332   \\\n",
       "Client ID       210100078  210100079  210100335  210100336  210100337   \n",
       "ZIP Code                0          0          0          0          0   \n",
       "ID Client Type        NaN        NaN        NaN        NaN        NaN   \n",
       "\n",
       "                     335        336        432        690        691   ...  \\\n",
       "Client ID       210100340  210100341  210100438  210100707  210100708  ...   \n",
       "ZIP Code                0          0          0          3          1  ...   \n",
       "ID Client Type        NaN        NaN        NaN        NaN        NaN  ...   \n",
       "\n",
       "                     2511       2551       2553       2557       2570  \\\n",
       "Client ID       210102577  210102618  210102620  210102624  210102639   \n",
       "ZIP Code                0          0          0          0          0   \n",
       "ID Client Type        NaN        NaN        NaN        NaN        NaN   \n",
       "\n",
       "                     2611       2778       3033       3034       5552  \n",
       "Client ID       210102682  210102868  210103134  210103135  210105679  \n",
       "ZIP Code                0          0          0          0          0  \n",
       "ID Client Type        NaN        NaN        NaN        NaN        NaN  \n",
       "\n",
       "[3 rows x 38 columns]"
      ]
     },
     "execution_count": 39,
     "metadata": {},
     "output_type": "execute_result"
    }
   ],
   "source": [
    "clients[clients['ZIP Code'].apply(lambda x: len(str(x)) != 4)].T"
   ]
  },
  {
   "cell_type": "code",
   "execution_count": 41,
   "id": "12906853",
   "metadata": {},
   "outputs": [],
   "source": [
    "invalid_clients = clients[clients['ZIP Code'].apply(lambda x: len(str(x)) != 4)]['Client ID'].tolist()"
   ]
  },
  {
   "cell_type": "code",
   "execution_count": 14,
   "id": "b9d815f0",
   "metadata": {},
   "outputs": [
    {
     "data": {
      "text/plain": [
       "ID Client Type\n",
       "Hotelaria                                    231\n",
       "Coletiva/Instituição/Cantina                 139\n",
       "Restaurante - Cozinha Portuguesa             135\n",
       "Café/Pastelaria                               57\n",
       "Catering                                      34\n",
       "Bar/Discoteca                                 15\n",
       "Restaurante - Cervejaria                      10\n",
       "Restaurante - Japonês                         10\n",
       "Restaurante - Churrasqueira                    8\n",
       "Retail Outros                                  7\n",
       "Padaria/Pastelaria                             7\n",
       "Restaurante - Chinês                           4\n",
       "Restaurante - Tapas & Petiscos                 4\n",
       "Restaurante - Outra Cozinha Internacional      3\n",
       "Restaurante - Steak House                      2\n",
       "Frutaria                                       2\n",
       "Restaurante - Italiano                         2\n",
       "Restaurante - Marisqueira                      2\n",
       "Restaurante - RodÃ­zio                         1\n",
       "Mercearia                                      1\n",
       "Garrafeira                                     1\n",
       "Restaurante - Cozinha de Autor                 1\n",
       "Restaurante - Rodízio                          1\n",
       "Restaurante - Brasileiro                       1\n",
       "Restaurante - Mexicano                         1\n",
       "Restaurante - Vegetariano                      1\n",
       "Name: count, dtype: int64"
      ]
     },
     "execution_count": 14,
     "metadata": {},
     "output_type": "execute_result"
    }
   ],
   "source": [
    "clients['ID Client Type'].value_counts()"
   ]
  },
  {
   "cell_type": "markdown",
   "id": "e6531782",
   "metadata": {},
   "source": [
    "### Insights \n",
    "\n",
    "- No duplicate clients\n",
    "\n",
    "- ZIP code has some invalid numbers. In Portugal all zip codes should have 4 digits, but in some cases (38) the ZIP code is either 0, 1, or 3. None of these clients have a Client Type associated. If they have no transactions associated, they may be removed.\n",
    "\n",
    "- ID Client has a lot of missing values (around 90%). This will need to be addressed. Additionally,  one client has the client type \"Restaurante -  Rodãzio\" associated. This is likely a typo, so it needs to be replaced by \"Restaurante - Rodízio\"."
   ]
  },
  {
   "cell_type": "markdown",
   "id": "bf5b9b84",
   "metadata": {},
   "source": [
    "## **Products**"
   ]
  },
  {
   "cell_type": "code",
   "execution_count": 30,
   "id": "b947ebb1",
   "metadata": {},
   "outputs": [
    {
     "data": {
      "text/html": [
       "<div>\n",
       "<style scoped>\n",
       "    .dataframe tbody tr th:only-of-type {\n",
       "        vertical-align: middle;\n",
       "    }\n",
       "\n",
       "    .dataframe tbody tr th {\n",
       "        vertical-align: top;\n",
       "    }\n",
       "\n",
       "    .dataframe thead th {\n",
       "        text-align: right;\n",
       "    }\n",
       "</style>\n",
       "<table border=\"1\" class=\"dataframe\">\n",
       "  <thead>\n",
       "    <tr style=\"text-align: right;\">\n",
       "      <th></th>\n",
       "      <th>ID Product</th>\n",
       "      <th>Product Description</th>\n",
       "      <th>ID Product Category</th>\n",
       "    </tr>\n",
       "  </thead>\n",
       "  <tbody>\n",
       "    <tr>\n",
       "      <th>0</th>\n",
       "      <td>224780</td>\n",
       "      <td>FARINHA ESPIGA AMIDO MILHO LUS.2KG</td>\n",
       "      <td>FARINHAS</td>\n",
       "    </tr>\n",
       "    <tr>\n",
       "      <th>1</th>\n",
       "      <td>276806</td>\n",
       "      <td>LARANJA CAL7 (67/76) RCH</td>\n",
       "      <td>FRUTAS FRESCAS</td>\n",
       "    </tr>\n",
       "    <tr>\n",
       "      <th>2</th>\n",
       "      <td>276809</td>\n",
       "      <td>LIMAO CAL 3/4 RCH</td>\n",
       "      <td>FRUTAS FRESCAS</td>\n",
       "    </tr>\n",
       "    <tr>\n",
       "      <th>3</th>\n",
       "      <td>277674</td>\n",
       "      <td>COGUMELO BRANCO MÉDIO RCH</td>\n",
       "      <td>LEGUMES FRESCOS</td>\n",
       "    </tr>\n",
       "    <tr>\n",
       "      <th>4</th>\n",
       "      <td>277917</td>\n",
       "      <td>TOMATE BB 67/82 1CAM RCH</td>\n",
       "      <td>LEGUMES FRESCOS</td>\n",
       "    </tr>\n",
       "  </tbody>\n",
       "</table>\n",
       "</div>"
      ],
      "text/plain": [
       "   ID Product                 Product Description ID Product Category\n",
       "0      224780  FARINHA ESPIGA AMIDO MILHO LUS.2KG            FARINHAS\n",
       "1      276806            LARANJA CAL7 (67/76) RCH      FRUTAS FRESCAS\n",
       "2      276809                   LIMAO CAL 3/4 RCH      FRUTAS FRESCAS\n",
       "3      277674           COGUMELO BRANCO MÉDIO RCH     LEGUMES FRESCOS\n",
       "4      277917            TOMATE BB 67/82 1CAM RCH     LEGUMES FRESCOS"
      ]
     },
     "execution_count": 30,
     "metadata": {},
     "output_type": "execute_result"
    }
   ],
   "source": [
    "products.head()"
   ]
  },
  {
   "cell_type": "code",
   "execution_count": 31,
   "id": "98e48d5b",
   "metadata": {},
   "outputs": [
    {
     "name": "stdout",
     "output_type": "stream",
     "text": [
      "<class 'pandas.core.frame.DataFrame'>\n",
      "RangeIndex: 4583 entries, 0 to 4582\n",
      "Data columns (total 3 columns):\n",
      " #   Column               Non-Null Count  Dtype \n",
      "---  ------               --------------  ----- \n",
      " 0   ID Product           4583 non-null   int64 \n",
      " 1   Product Description  4583 non-null   object\n",
      " 2   ID Product Category  4583 non-null   object\n",
      "dtypes: int64(1), object(2)\n",
      "memory usage: 107.5+ KB\n"
     ]
    }
   ],
   "source": [
    "products.info()"
   ]
  },
  {
   "cell_type": "code",
   "execution_count": 33,
   "id": "44da126d",
   "metadata": {},
   "outputs": [
    {
     "data": {
      "text/html": [
       "<div>\n",
       "<style scoped>\n",
       "    .dataframe tbody tr th:only-of-type {\n",
       "        vertical-align: middle;\n",
       "    }\n",
       "\n",
       "    .dataframe tbody tr th {\n",
       "        vertical-align: top;\n",
       "    }\n",
       "\n",
       "    .dataframe thead th {\n",
       "        text-align: right;\n",
       "    }\n",
       "</style>\n",
       "<table border=\"1\" class=\"dataframe\">\n",
       "  <thead>\n",
       "    <tr style=\"text-align: right;\">\n",
       "      <th></th>\n",
       "      <th>count</th>\n",
       "      <th>unique</th>\n",
       "      <th>top</th>\n",
       "      <th>freq</th>\n",
       "    </tr>\n",
       "  </thead>\n",
       "  <tbody>\n",
       "    <tr>\n",
       "      <th>Product Description</th>\n",
       "      <td>4583</td>\n",
       "      <td>4573</td>\n",
       "      <td>CABO ESFREGONA VILEDA SUPER 1UN</td>\n",
       "      <td>2</td>\n",
       "    </tr>\n",
       "    <tr>\n",
       "      <th>ID Product Category</th>\n",
       "      <td>4583</td>\n",
       "      <td>268</td>\n",
       "      <td>VINHOS TINTOS</td>\n",
       "      <td>175</td>\n",
       "    </tr>\n",
       "  </tbody>\n",
       "</table>\n",
       "</div>"
      ],
      "text/plain": [
       "                    count unique                              top freq\n",
       "Product Description  4583   4573  CABO ESFREGONA VILEDA SUPER 1UN    2\n",
       "ID Product Category  4583    268                    VINHOS TINTOS  175"
      ]
     },
     "execution_count": 33,
     "metadata": {},
     "output_type": "execute_result"
    }
   ],
   "source": [
    "products.describe(include='object').T"
   ]
  },
  {
   "cell_type": "code",
   "execution_count": 32,
   "id": "3ce7c2cb",
   "metadata": {},
   "outputs": [
    {
     "name": "stdout",
     "output_type": "stream",
     "text": [
      "0\n",
      "0\n"
     ]
    }
   ],
   "source": [
    "print(products.duplicated().sum())\n",
    "print(products['ID Product'].duplicated().sum())"
   ]
  },
  {
   "cell_type": "code",
   "execution_count": 34,
   "id": "c8e2803c",
   "metadata": {},
   "outputs": [
    {
     "data": {
      "text/html": [
       "<div>\n",
       "<style scoped>\n",
       "    .dataframe tbody tr th:only-of-type {\n",
       "        vertical-align: middle;\n",
       "    }\n",
       "\n",
       "    .dataframe tbody tr th {\n",
       "        vertical-align: top;\n",
       "    }\n",
       "\n",
       "    .dataframe thead th {\n",
       "        text-align: right;\n",
       "    }\n",
       "</style>\n",
       "<table border=\"1\" class=\"dataframe\">\n",
       "  <thead>\n",
       "    <tr style=\"text-align: right;\">\n",
       "      <th></th>\n",
       "      <th>ID Product</th>\n",
       "      <th>Product Description</th>\n",
       "      <th>ID Product Category</th>\n",
       "    </tr>\n",
       "  </thead>\n",
       "  <tbody>\n",
       "    <tr>\n",
       "      <th>4018</th>\n",
       "      <td>975734</td>\n",
       "      <td>AREIAS DE MANTEIGA 300 G</td>\n",
       "      <td>BOLACHAS</td>\n",
       "    </tr>\n",
       "    <tr>\n",
       "      <th>3779</th>\n",
       "      <td>814295</td>\n",
       "      <td>AREIAS DE MANTEIGA 300 G</td>\n",
       "      <td>BOLACHAS</td>\n",
       "    </tr>\n",
       "    <tr>\n",
       "      <th>2883</th>\n",
       "      <td>946293</td>\n",
       "      <td>CABO ESFREGONA VILEDA SUPER 1UN</td>\n",
       "      <td>ACESSÓRIOS LIMPEZA GERAL</td>\n",
       "    </tr>\n",
       "    <tr>\n",
       "      <th>4044</th>\n",
       "      <td>969528</td>\n",
       "      <td>CABO ESFREGONA VILEDA SUPER 1UN</td>\n",
       "      <td>ACESSÓRIOS LIMPEZA GERAL</td>\n",
       "    </tr>\n",
       "    <tr>\n",
       "      <th>329</th>\n",
       "      <td>923162</td>\n",
       "      <td>CREME VEGETAL MCHEF KG</td>\n",
       "      <td>CREMES VEGETAIS</td>\n",
       "    </tr>\n",
       "    <tr>\n",
       "      <th>3590</th>\n",
       "      <td>973849</td>\n",
       "      <td>CREME VEGETAL MCHEF KG</td>\n",
       "      <td>CREMES VEGETAIS</td>\n",
       "    </tr>\n",
       "    <tr>\n",
       "      <th>1382</th>\n",
       "      <td>714976</td>\n",
       "      <td>DIP POT MOLHO ALHO HEINZ 100X 25GR</td>\n",
       "      <td>MOLHOS</td>\n",
       "    </tr>\n",
       "    <tr>\n",
       "      <th>4319</th>\n",
       "      <td>981288</td>\n",
       "      <td>DIP POT MOLHO ALHO HEINZ 100X 25GR</td>\n",
       "      <td>MOLHOS</td>\n",
       "    </tr>\n",
       "    <tr>\n",
       "      <th>2466</th>\n",
       "      <td>965058</td>\n",
       "      <td>FEIJÃO PRETO CISTER BOLSA 3/1,8 KG</td>\n",
       "      <td>CONSERVAS VEGETAIS</td>\n",
       "    </tr>\n",
       "    <tr>\n",
       "      <th>2854</th>\n",
       "      <td>957861</td>\n",
       "      <td>FEIJÃO PRETO CISTER BOLSA 3/1,8 KG</td>\n",
       "      <td>CONSERVAS VEGETAIS</td>\n",
       "    </tr>\n",
       "    <tr>\n",
       "      <th>1416</th>\n",
       "      <td>13545</td>\n",
       "      <td>MISTURA SOLÚVEL MOKAMBO 200G</td>\n",
       "      <td>CAFÉS E MISTURAS</td>\n",
       "    </tr>\n",
       "    <tr>\n",
       "      <th>3655</th>\n",
       "      <td>974730</td>\n",
       "      <td>MISTURA SOLÚVEL MOKAMBO 200G</td>\n",
       "      <td>CAFÉS E MISTURAS</td>\n",
       "    </tr>\n",
       "    <tr>\n",
       "      <th>4417</th>\n",
       "      <td>597501</td>\n",
       "      <td>PHILADELPHIA  REGULAR 2KG</td>\n",
       "      <td>QUEIJOS PARA BARRAR</td>\n",
       "    </tr>\n",
       "    <tr>\n",
       "      <th>4470</th>\n",
       "      <td>983302</td>\n",
       "      <td>PHILADELPHIA  REGULAR 2KG</td>\n",
       "      <td>QUEIJOS PARA BARRAR</td>\n",
       "    </tr>\n",
       "    <tr>\n",
       "      <th>4285</th>\n",
       "      <td>981970</td>\n",
       "      <td>TAB CHOC LEITE TOBLERONE 35G</td>\n",
       "      <td>CHOCOLATE</td>\n",
       "    </tr>\n",
       "    <tr>\n",
       "      <th>1492</th>\n",
       "      <td>103911</td>\n",
       "      <td>TAB CHOC LEITE TOBLERONE 35G</td>\n",
       "      <td>CHOCOLATE</td>\n",
       "    </tr>\n",
       "    <tr>\n",
       "      <th>1676</th>\n",
       "      <td>942002</td>\n",
       "      <td>V DOURO MONTES ERMOS COLHEITA TTO 75CL</td>\n",
       "      <td>VINHOS TINTOS</td>\n",
       "    </tr>\n",
       "    <tr>\n",
       "      <th>3359</th>\n",
       "      <td>799703</td>\n",
       "      <td>V DOURO MONTES ERMOS COLHEITA TTO 75CL</td>\n",
       "      <td>VINHOS TINTOS</td>\n",
       "    </tr>\n",
       "    <tr>\n",
       "      <th>2980</th>\n",
       "      <td>460163</td>\n",
       "      <td>V.DOURO CALLABRIGA TTO 75CL</td>\n",
       "      <td>VINHOS TINTOS</td>\n",
       "    </tr>\n",
       "    <tr>\n",
       "      <th>4439</th>\n",
       "      <td>918308</td>\n",
       "      <td>V.DOURO CALLABRIGA TTO 75CL</td>\n",
       "      <td>VINHOS TINTOS</td>\n",
       "    </tr>\n",
       "  </tbody>\n",
       "</table>\n",
       "</div>"
      ],
      "text/plain": [
       "      ID Product                     Product Description  \\\n",
       "4018      975734                AREIAS DE MANTEIGA 300 G   \n",
       "3779      814295                AREIAS DE MANTEIGA 300 G   \n",
       "2883      946293         CABO ESFREGONA VILEDA SUPER 1UN   \n",
       "4044      969528         CABO ESFREGONA VILEDA SUPER 1UN   \n",
       "329       923162                  CREME VEGETAL MCHEF KG   \n",
       "3590      973849                  CREME VEGETAL MCHEF KG   \n",
       "1382      714976      DIP POT MOLHO ALHO HEINZ 100X 25GR   \n",
       "4319      981288      DIP POT MOLHO ALHO HEINZ 100X 25GR   \n",
       "2466      965058      FEIJÃO PRETO CISTER BOLSA 3/1,8 KG   \n",
       "2854      957861      FEIJÃO PRETO CISTER BOLSA 3/1,8 KG   \n",
       "1416       13545            MISTURA SOLÚVEL MOKAMBO 200G   \n",
       "3655      974730            MISTURA SOLÚVEL MOKAMBO 200G   \n",
       "4417      597501               PHILADELPHIA  REGULAR 2KG   \n",
       "4470      983302               PHILADELPHIA  REGULAR 2KG   \n",
       "4285      981970            TAB CHOC LEITE TOBLERONE 35G   \n",
       "1492      103911            TAB CHOC LEITE TOBLERONE 35G   \n",
       "1676      942002  V DOURO MONTES ERMOS COLHEITA TTO 75CL   \n",
       "3359      799703  V DOURO MONTES ERMOS COLHEITA TTO 75CL   \n",
       "2980      460163             V.DOURO CALLABRIGA TTO 75CL   \n",
       "4439      918308             V.DOURO CALLABRIGA TTO 75CL   \n",
       "\n",
       "           ID Product Category  \n",
       "4018                  BOLACHAS  \n",
       "3779                  BOLACHAS  \n",
       "2883  ACESSÓRIOS LIMPEZA GERAL  \n",
       "4044  ACESSÓRIOS LIMPEZA GERAL  \n",
       "329            CREMES VEGETAIS  \n",
       "3590           CREMES VEGETAIS  \n",
       "1382                    MOLHOS  \n",
       "4319                    MOLHOS  \n",
       "2466        CONSERVAS VEGETAIS  \n",
       "2854        CONSERVAS VEGETAIS  \n",
       "1416          CAFÉS E MISTURAS  \n",
       "3655          CAFÉS E MISTURAS  \n",
       "4417       QUEIJOS PARA BARRAR  \n",
       "4470       QUEIJOS PARA BARRAR  \n",
       "4285                 CHOCOLATE  \n",
       "1492                 CHOCOLATE  \n",
       "1676             VINHOS TINTOS  \n",
       "3359             VINHOS TINTOS  \n",
       "2980             VINHOS TINTOS  \n",
       "4439             VINHOS TINTOS  "
      ]
     },
     "execution_count": 34,
     "metadata": {},
     "output_type": "execute_result"
    }
   ],
   "source": [
    "products[products['Product Description'].duplicated(keep=False)].sort_values('Product Description')"
   ]
  },
  {
   "cell_type": "markdown",
   "id": "82871c97",
   "metadata": {},
   "source": [
    "### Insights \n",
    "\n",
    "- No duplicate rows or product IDs. However, in some cases (10), different product IDs have the same Product Description and ID Product Category. These are duplicate entries, so this will need to be addressed."
   ]
  },
  {
   "cell_type": "markdown",
   "id": "ff30a6ef",
   "metadata": {},
   "source": [
    "## **Transactions**"
   ]
  },
  {
   "cell_type": "code",
   "execution_count": 35,
   "id": "50b347be",
   "metadata": {},
   "outputs": [
    {
     "data": {
      "text/html": [
       "<div>\n",
       "<style scoped>\n",
       "    .dataframe tbody tr th:only-of-type {\n",
       "        vertical-align: middle;\n",
       "    }\n",
       "\n",
       "    .dataframe tbody tr th {\n",
       "        vertical-align: top;\n",
       "    }\n",
       "\n",
       "    .dataframe thead th {\n",
       "        text-align: right;\n",
       "    }\n",
       "</style>\n",
       "<table border=\"1\" class=\"dataframe\">\n",
       "  <thead>\n",
       "    <tr style=\"text-align: right;\">\n",
       "      <th></th>\n",
       "      <th>Date</th>\n",
       "      <th>Client ID</th>\n",
       "      <th>ID Product</th>\n",
       "    </tr>\n",
       "  </thead>\n",
       "  <tbody>\n",
       "    <tr>\n",
       "      <th>0</th>\n",
       "      <td>2022-01-02</td>\n",
       "      <td>210100281</td>\n",
       "      <td>224780</td>\n",
       "    </tr>\n",
       "    <tr>\n",
       "      <th>1</th>\n",
       "      <td>2022-01-02</td>\n",
       "      <td>210100281</td>\n",
       "      <td>276806</td>\n",
       "    </tr>\n",
       "    <tr>\n",
       "      <th>2</th>\n",
       "      <td>2022-01-02</td>\n",
       "      <td>210100281</td>\n",
       "      <td>276809</td>\n",
       "    </tr>\n",
       "    <tr>\n",
       "      <th>3</th>\n",
       "      <td>2022-01-02</td>\n",
       "      <td>210100281</td>\n",
       "      <td>277674</td>\n",
       "    </tr>\n",
       "    <tr>\n",
       "      <th>4</th>\n",
       "      <td>2022-01-02</td>\n",
       "      <td>210100281</td>\n",
       "      <td>277917</td>\n",
       "    </tr>\n",
       "  </tbody>\n",
       "</table>\n",
       "</div>"
      ],
      "text/plain": [
       "        Date  Client ID  ID Product\n",
       "0 2022-01-02  210100281      224780\n",
       "1 2022-01-02  210100281      276806\n",
       "2 2022-01-02  210100281      276809\n",
       "3 2022-01-02  210100281      277674\n",
       "4 2022-01-02  210100281      277917"
      ]
     },
     "execution_count": 35,
     "metadata": {},
     "output_type": "execute_result"
    }
   ],
   "source": [
    "transactions.head()"
   ]
  },
  {
   "cell_type": "code",
   "execution_count": 36,
   "id": "04c11510",
   "metadata": {},
   "outputs": [
    {
     "name": "stdout",
     "output_type": "stream",
     "text": [
      "<class 'pandas.core.frame.DataFrame'>\n",
      "RangeIndex: 884099 entries, 0 to 884098\n",
      "Data columns (total 3 columns):\n",
      " #   Column      Non-Null Count   Dtype         \n",
      "---  ------      --------------   -----         \n",
      " 0   Date        884099 non-null  datetime64[ns]\n",
      " 1   Client ID   884099 non-null  int64         \n",
      " 2   ID Product  884099 non-null  int64         \n",
      "dtypes: datetime64[ns](1), int64(2)\n",
      "memory usage: 20.2 MB\n"
     ]
    }
   ],
   "source": [
    "transactions.info()"
   ]
  },
  {
   "cell_type": "code",
   "execution_count": 37,
   "id": "52b3ca02",
   "metadata": {},
   "outputs": [
    {
     "data": {
      "text/html": [
       "<div>\n",
       "<style scoped>\n",
       "    .dataframe tbody tr th:only-of-type {\n",
       "        vertical-align: middle;\n",
       "    }\n",
       "\n",
       "    .dataframe tbody tr th {\n",
       "        vertical-align: top;\n",
       "    }\n",
       "\n",
       "    .dataframe thead th {\n",
       "        text-align: right;\n",
       "    }\n",
       "</style>\n",
       "<table border=\"1\" class=\"dataframe\">\n",
       "  <thead>\n",
       "    <tr style=\"text-align: right;\">\n",
       "      <th></th>\n",
       "      <th>Date</th>\n",
       "      <th>Client ID</th>\n",
       "      <th>ID Product</th>\n",
       "    </tr>\n",
       "  </thead>\n",
       "  <tbody>\n",
       "    <tr>\n",
       "      <th>104615</th>\n",
       "      <td>2022-03-01</td>\n",
       "      <td>210100804</td>\n",
       "      <td>904364</td>\n",
       "    </tr>\n",
       "    <tr>\n",
       "      <th>105040</th>\n",
       "      <td>2022-03-01</td>\n",
       "      <td>210102196</td>\n",
       "      <td>521205</td>\n",
       "    </tr>\n",
       "    <tr>\n",
       "      <th>105329</th>\n",
       "      <td>2022-03-01</td>\n",
       "      <td>210103577</td>\n",
       "      <td>931201</td>\n",
       "    </tr>\n",
       "    <tr>\n",
       "      <th>105452</th>\n",
       "      <td>2022-03-01</td>\n",
       "      <td>210103706</td>\n",
       "      <td>935622</td>\n",
       "    </tr>\n",
       "    <tr>\n",
       "      <th>106122</th>\n",
       "      <td>2022-03-01</td>\n",
       "      <td>210104607</td>\n",
       "      <td>372332</td>\n",
       "    </tr>\n",
       "    <tr>\n",
       "      <th>106311</th>\n",
       "      <td>2022-03-01</td>\n",
       "      <td>210105057</td>\n",
       "      <td>621958</td>\n",
       "    </tr>\n",
       "    <tr>\n",
       "      <th>107265</th>\n",
       "      <td>2022-03-01</td>\n",
       "      <td>210105808</td>\n",
       "      <td>906995</td>\n",
       "    </tr>\n",
       "    <tr>\n",
       "      <th>107505</th>\n",
       "      <td>2022-03-01</td>\n",
       "      <td>210105969</td>\n",
       "      <td>701988</td>\n",
       "    </tr>\n",
       "    <tr>\n",
       "      <th>107508</th>\n",
       "      <td>2022-03-01</td>\n",
       "      <td>210105969</td>\n",
       "      <td>931201</td>\n",
       "    </tr>\n",
       "  </tbody>\n",
       "</table>\n",
       "</div>"
      ],
      "text/plain": [
       "             Date  Client ID  ID Product\n",
       "104615 2022-03-01  210100804      904364\n",
       "105040 2022-03-01  210102196      521205\n",
       "105329 2022-03-01  210103577      931201\n",
       "105452 2022-03-01  210103706      935622\n",
       "106122 2022-03-01  210104607      372332\n",
       "106311 2022-03-01  210105057      621958\n",
       "107265 2022-03-01  210105808      906995\n",
       "107505 2022-03-01  210105969      701988\n",
       "107508 2022-03-01  210105969      931201"
      ]
     },
     "execution_count": 37,
     "metadata": {},
     "output_type": "execute_result"
    }
   ],
   "source": [
    "transactions[transactions.duplicated()]"
   ]
  },
  {
   "cell_type": "code",
   "execution_count": 43,
   "id": "e87bb270",
   "metadata": {},
   "outputs": [
    {
     "data": {
      "text/html": [
       "<div>\n",
       "<style scoped>\n",
       "    .dataframe tbody tr th:only-of-type {\n",
       "        vertical-align: middle;\n",
       "    }\n",
       "\n",
       "    .dataframe tbody tr th {\n",
       "        vertical-align: top;\n",
       "    }\n",
       "\n",
       "    .dataframe thead th {\n",
       "        text-align: right;\n",
       "    }\n",
       "</style>\n",
       "<table border=\"1\" class=\"dataframe\">\n",
       "  <thead>\n",
       "    <tr style=\"text-align: right;\">\n",
       "      <th></th>\n",
       "      <th>Date</th>\n",
       "      <th>Client ID</th>\n",
       "      <th>ID Product</th>\n",
       "    </tr>\n",
       "  </thead>\n",
       "  <tbody>\n",
       "  </tbody>\n",
       "</table>\n",
       "</div>"
      ],
      "text/plain": [
       "Empty DataFrame\n",
       "Columns: [Date, Client ID, ID Product]\n",
       "Index: []"
      ]
     },
     "execution_count": 43,
     "metadata": {},
     "output_type": "execute_result"
    }
   ],
   "source": [
    "transactions[transactions['Client ID'].isin(invalid_clients)]"
   ]
  },
  {
   "cell_type": "markdown",
   "id": "525f7048",
   "metadata": {},
   "source": [
    "### Insights \n",
    "\n",
    "- There are some duplicates. This likely corresponds to the same client purchasing the same product twice in the same day. As such, we will keep these rows\n",
    "\n",
    "- The clients with invalid ZIP codes have no transactions associated. As such, they may be removed."
   ]
  },
  {
   "cell_type": "code",
   "execution_count": 61,
   "id": "04556ee8",
   "metadata": {},
   "outputs": [
    {
     "data": {
      "text/plain": [
       "0                        NaN\n",
       "1                        NaN\n",
       "2                        NaN\n",
       "4                        NaN\n",
       "5                        NaN\n",
       "                ...         \n",
       "6442               Hotelaria\n",
       "6443                Catering\n",
       "6444               Hotelaria\n",
       "6445               Hotelaria\n",
       "6446    Restaurante - Chinês\n",
       "Name: ID Client Type, Length: 4933, dtype: object"
      ]
     },
     "execution_count": 61,
     "metadata": {},
     "output_type": "execute_result"
    }
   ],
   "source": [
    "x = clients['Client ID'].tolist()\n",
    "\n",
    "missing_clients = [client for client in x if client not in transactions['Client ID'].values]\n",
    "\n",
    "clients[clients['Client ID'].isin(missing_clients)]['ID Client Type']\n",
    "\n",
    "# 4933 clients have no transactions associated"
   ]
  }
 ],
 "metadata": {
  "kernelspec": {
   "display_name": "Python 3",
   "language": "python",
   "name": "python3"
  },
  "language_info": {
   "codemirror_mode": {
    "name": "ipython",
    "version": 3
   },
   "file_extension": ".py",
   "mimetype": "text/x-python",
   "name": "python",
   "nbconvert_exporter": "python",
   "pygments_lexer": "ipython3",
   "version": "3.11.9"
  }
 },
 "nbformat": 4,
 "nbformat_minor": 5
}
