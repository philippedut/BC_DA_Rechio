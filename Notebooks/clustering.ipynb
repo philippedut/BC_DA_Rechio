{
 "cells": [
  {
   "cell_type": "markdown",
   "id": "b6b44a84",
   "metadata": {},
   "source": [
    "# **BUSINESS CASE 3: Recheio Rocommendation System**  \n",
    "\n",
    "\n",
    "## 🎓 Master’s Program in Data Science & Advanced Analytics \n",
    "**Nova IMS** | March 2025   \n",
    "**Course:** Business Cases with Data Science\n",
    "\n",
    "## 👥 Team **Group A**  \n",
    "- **Alice Viegas** | 20240572  \n",
    "- **Bernardo Faria** | 20240579  \n",
    "- **Dinis Pinto** | 20240612  \n",
    "- **Daan van Holten** | 20240681\n",
    "- **Philippe Dutranoit** | 20240518"
   ]
  },
  {
   "cell_type": "markdown",
   "id": "7e669d53",
   "metadata": {},
   "source": [
    "## 📊 Project Overview  \n",
    "This notebook utilizes the following datasets:  \n",
    "- Case3_Recheio_2025 (1).xlsx <br>\n",
    "- The goal of the project is to design a recomendation system so that the company can propose better products to existing costumers."
   ]
  },
  {
   "cell_type": "markdown",
   "id": "e345b741",
   "metadata": {},
   "source": [
    "## 📊 Goal of the notebook\n",
    "\n",
    "In this notebook we will cluster the clients with transactions. <br>"
   ]
  }
 ],
 "metadata": {
  "kernelspec": {
   "display_name": "Python 3",
   "language": "python",
   "name": "python3"
  },
  "language_info": {
   "codemirror_mode": {
    "name": "ipython",
    "version": 3
   },
   "file_extension": ".py",
   "mimetype": "text/x-python",
   "name": "python",
   "nbconvert_exporter": "python",
   "pygments_lexer": "ipython3",
   "version": "3.11.9"
  }
 },
 "nbformat": 4,
 "nbformat_minor": 5
}
