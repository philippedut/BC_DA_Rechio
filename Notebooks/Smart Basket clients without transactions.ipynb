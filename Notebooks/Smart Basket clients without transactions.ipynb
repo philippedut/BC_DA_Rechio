{
 "cells": [
  {
   "cell_type": "markdown",
   "id": "c2612ebc",
   "metadata": {},
   "source": [
    "# **BUSINESS CASE 3: Recheio Rocommendation System**  \n",
    "\n",
    "\n",
    "## 🎓 Master’s Program in Data Science & Advanced Analytics \n",
    "**Nova IMS** | March 2025   \n",
    "**Course:** Business Cases with Data Science\n",
    "\n",
    "## 👥 Team **Group A**  \n",
    "- **Alice Viegas** | 20240572  \n",
    "- **Bernardo Faria** | 20240579  \n",
    "- **Dinis Pinto** | 20240612  \n",
    "- **Daan van Holten** | 20240681\n",
    "- **Philippe Dutranoit** | 20240518"
   ]
  },
  {
   "cell_type": "markdown",
   "id": "bc0d19ee",
   "metadata": {},
   "source": [
    "## 📊 Project Overview  \n",
    "This notebook uses the Case3_Recheio_2025 (1).xlsx dataset to build a recommendation system that helps Recheio suggest better products to existing customers.\n",
    "\n",
    "It addresses two key challenges:<br>\n",
    "—  How to enrich customer data for more accurate recommendations.<br>\n",
    "—  How to deliver relevant suggestions across available sales channels. <br>"
   ]
  },
  {
   "cell_type": "markdown",
   "id": "dd4a5a28",
   "metadata": {},
   "source": [
    "## 📊 Goal of the notebook\n",
    "\n",
    "In this notebook we will make smart basket recommendations for the clients for with no transaction information. <br>"
   ]
  },
  {
   "cell_type": "markdown",
   "id": "e98003d5",
   "metadata": {},
   "source": [
    "**Table of Contents** <br>\n",
    "* [1. Initial Setup and DataLoading](#setup)\n",
    "* [2. Best Seller Recommendations](#best)\n",
    "* [3. Export](#export)"
   ]
  },
  {
   "cell_type": "markdown",
   "id": "2d99aadd",
   "metadata": {},
   "source": [
    "<hr>\n",
    "<a class=\"anchor\" id=\"setup\">\n",
    "\n",
    " ## 1. Initial Setup and Data Loading\n",
    " </a>"
   ]
  },
  {
   "cell_type": "code",
   "execution_count": 71,
   "id": "22cdd2f1",
   "metadata": {},
   "outputs": [],
   "source": [
    "#Packages\n",
    "import os\n",
    "import pandas as pd\n",
    "import numpy as np\n",
    "import matplotlib.pyplot as plt\n",
    "import seaborn as sns\n",
    "from datetime import datetime, timedelta"
   ]
  },
  {
   "cell_type": "code",
   "execution_count": 72,
   "id": "2453cbd8",
   "metadata": {},
   "outputs": [],
   "source": [
    "clients_no_transactions = pd.read_csv(\"../Data/clients_without_transactions.csv\")\n",
    "df_transactions = pd.read_csv(\"../Data/df.csv\")\n",
    "products = pd.read_csv(\"../Data/products_fixed.csv\")"
   ]
  },
  {
   "cell_type": "code",
   "execution_count": 73,
   "id": "b9a778b9",
   "metadata": {},
   "outputs": [],
   "source": [
    "categories = ['']"
   ]
  },
  {
   "cell_type": "markdown",
   "id": "dc298e59",
   "metadata": {},
   "source": [
    "<hr>\n",
    "<a class=\"anchor\" id=\"best\">\n",
    "\n",
    " ## 2. Best Seller Recommendations\n",
    " </a>"
   ]
  },
  {
   "cell_type": "markdown",
   "id": "7246aee6",
   "metadata": {},
   "source": [
    "### Exploring some populatity rankings for 'Best Selling Products'\n"
   ]
  },
  {
   "cell_type": "code",
   "execution_count": null,
   "id": "0d943e70",
   "metadata": {},
   "outputs": [
    {
     "name": "stdout",
     "output_type": "stream",
     "text": [
      "            sales_7d  sales_14d  sales_30d  hybrid_7_30  rank_14d  rank_hybrid\n",
      "ID Product                                                                    \n",
      "621958         261.0      525.0       1112        601.4       1.0          1.0\n",
      "879894         177.0      358.0        729        397.8       2.0          2.0\n",
      "733725         178.0      352.0        715        392.8       3.0          3.0\n",
      "915237          98.0      193.0        417        225.6       4.0          4.0\n",
      "659149          89.0      189.0        424        223.0       5.0          5.0\n",
      "578318          98.0      177.0        386        213.2       6.0          6.0\n",
      "53425           71.0      166.0        378        193.8       7.0          7.0\n",
      "890937          64.0      147.0        344        176.0       9.0          8.0\n",
      "749441          69.0      148.0        310        165.4       8.0          9.0\n",
      "665738          65.0      131.0        298        158.2      12.0         10.0\n"
     ]
    }
   ],
   "source": [
    "df = df_transactions.copy()\n",
    "df['Date'] = pd.to_datetime(df['Date'])\n",
    "\n",
    "# Define time reference\n",
    "today = df['Date'].max()\n",
    "df['days_ago'] = (today - df['Date']).dt.days\n",
    "\n",
    "# Create masks for time windows\n",
    "mask_7d = df['days_ago'] <= 7\n",
    "mask_14d = df['days_ago'] <= 14\n",
    "mask_30d = df['days_ago'] <= 30\n",
    "\n",
    "# Count appearances per product in each period\n",
    "sales_7d = df[mask_7d]['ID Product'].value_counts().rename('sales_7d')\n",
    "sales_14d = df[mask_14d]['ID Product'].value_counts().rename('sales_14d')\n",
    "sales_30d = df[mask_30d]['ID Product'].value_counts().rename('sales_30d')\n",
    "\n",
    "# Combine\n",
    "ranking_df = pd.concat([sales_7d, sales_14d, sales_30d], axis=1).fillna(0)\n",
    "\n",
    "# Add weekly/monthly hybrid count\n",
    "ranking_df['hybrid_7_30'] = ranking_df['sales_7d'] * 0.6 + ranking_df['sales_30d'] * 0.4\n",
    "\n",
    "# Testing some rankings of products\n",
    "ranking_df['rank_14d'] = ranking_df['sales_14d'].rank(ascending=False, method='min')\n",
    "ranking_df['rank_hybrid'] = ranking_df['hybrid_7_30'].rank(ascending=False, method='min')\n",
    "\n",
    "print(ranking_df.sort_values('rank_hybrid').head(10))\n"
   ]
  },
  {
   "cell_type": "markdown",
   "id": "f2ec86f5",
   "metadata": {},
   "source": [
    "Having compared a pure 14-day window with a ***hybrid 7-/30-day approach***, we opted for the latter. \n",
    "\n",
    "Prioritizing 7-day sales lets us capture fast-moving items and short-term spikes—driven by promotions, seasonality, or weather—while still incorporating 30-day data to smooth out volatility and spotlight consistently popular products. This blend keeps our recommendations both responsive and reliable, ensuring they respond to emerging trends without sacrificing the stability of proven best-sellers—perfect for a supermarket with varied, rapidly changing demand. "
   ]
  },
  {
   "cell_type": "code",
   "execution_count": 75,
   "id": "777d4a29",
   "metadata": {},
   "outputs": [],
   "source": [
    "ranking_df_selection = ranking_df.copy().reset_index()  # 'ID Product' now exists as a column\n",
    "\n",
    "# Merge with own brand info \n",
    "ranking_df_selection = ranking_df_selection.merge(products[['ID Product', 'Own Brand']], on='ID Product', how='left')\n",
    "ranking_df_selection['Own Brand'] = ranking_df_selection['Own Brand'].fillna(0)\n",
    "\n",
    "# Apply 20% boost to own brand items in hybrid_7_30 for selection purposes\n",
    "ranking_df_selection['hybrid_7_30_temp'] = ranking_df_selection['hybrid_7_30'] * (1 + 0.2 * ranking_df_selection['Own Brand'])\n",
    "\n",
    "# Sort by boosted hybrid score\n",
    "ranking_df_selection.sort_values('hybrid_7_30_temp', ascending=False, inplace=True)\n",
    "\n",
    "# Get top 10 product IDs (index should be ID Product)\n",
    "top10_IDs = ranking_df_selection.head(10)['ID Product'].tolist()\n"
   ]
  },
  {
   "cell_type": "markdown",
   "id": "76e6c59b",
   "metadata": {},
   "source": [
    "This code adjusts product popularity rankings by giving a 20% boost to own brand items and the DataFrame is sorted by this boosted score. Finally, the top 10 product IDs are selected for recommendation for first time clients."
   ]
  },
  {
   "cell_type": "markdown",
   "id": "0160cfbc",
   "metadata": {},
   "source": [
    "### Final recommendations"
   ]
  },
  {
   "cell_type": "code",
   "execution_count": 76,
   "id": "b102e658",
   "metadata": {},
   "outputs": [
    {
     "data": {
      "text/html": [
       "<div>\n",
       "<style scoped>\n",
       "    .dataframe tbody tr th:only-of-type {\n",
       "        vertical-align: middle;\n",
       "    }\n",
       "\n",
       "    .dataframe tbody tr th {\n",
       "        vertical-align: top;\n",
       "    }\n",
       "\n",
       "    .dataframe thead th {\n",
       "        text-align: right;\n",
       "    }\n",
       "</style>\n",
       "<table border=\"1\" class=\"dataframe\">\n",
       "  <thead>\n",
       "    <tr style=\"text-align: right;\">\n",
       "      <th></th>\n",
       "      <th>ID Product</th>\n",
       "      <th>Product Description</th>\n",
       "      <th>ID Product Category</th>\n",
       "      <th>Own Brand</th>\n",
       "    </tr>\n",
       "  </thead>\n",
       "  <tbody>\n",
       "    <tr>\n",
       "      <th>101</th>\n",
       "      <td>53425</td>\n",
       "      <td>ARROZ AGULHA MASTERCHEF 5 KG</td>\n",
       "      <td>ARROZ</td>\n",
       "      <td>1</td>\n",
       "    </tr>\n",
       "    <tr>\n",
       "      <th>575</th>\n",
       "      <td>370149</td>\n",
       "      <td>CENOURA SC10KG (CAL25/40) RCH</td>\n",
       "      <td>LEGUMES FRESCOS</td>\n",
       "      <td>1</td>\n",
       "    </tr>\n",
       "    <tr>\n",
       "      <th>907</th>\n",
       "      <td>578318</td>\n",
       "      <td>OLEO ALIMENTAR MCHEF 10 LT</td>\n",
       "      <td>ÓLEOS</td>\n",
       "      <td>1</td>\n",
       "    </tr>\n",
       "    <tr>\n",
       "      <th>974</th>\n",
       "      <td>621958</td>\n",
       "      <td>LEITE MCHEF UHT M/GORDO LT</td>\n",
       "      <td>LEITE UHT REGULAR</td>\n",
       "      <td>1</td>\n",
       "    </tr>\n",
       "    <tr>\n",
       "      <th>1083</th>\n",
       "      <td>659149</td>\n",
       "      <td>FARINHA AMANH S/FERMENTO 1KG</td>\n",
       "      <td>FARINHAS</td>\n",
       "      <td>0</td>\n",
       "    </tr>\n",
       "    <tr>\n",
       "      <th>1113</th>\n",
       "      <td>665738</td>\n",
       "      <td>VINAGRE AMANHECER DE VINHO BRANCO 1000M</td>\n",
       "      <td>VINAGRES</td>\n",
       "      <td>1</td>\n",
       "    </tr>\n",
       "    <tr>\n",
       "      <th>1482</th>\n",
       "      <td>733725</td>\n",
       "      <td>OVO AGRO OVO M 15DUZ IND</td>\n",
       "      <td>OVOS GAIOLA</td>\n",
       "      <td>0</td>\n",
       "    </tr>\n",
       "    <tr>\n",
       "      <th>2452</th>\n",
       "      <td>879894</td>\n",
       "      <td>ACUCAR AMANH BCO PAP KG</td>\n",
       "      <td>AÇÚCAR</td>\n",
       "      <td>0</td>\n",
       "    </tr>\n",
       "    <tr>\n",
       "      <th>2555</th>\n",
       "      <td>890937</td>\n",
       "      <td>LIXIVIA MCHEF TRADICIONAL 5LT</td>\n",
       "      <td>LIXÍVIAS TRADICIONAIS</td>\n",
       "      <td>1</td>\n",
       "    </tr>\n",
       "    <tr>\n",
       "      <th>2897</th>\n",
       "      <td>915237</td>\n",
       "      <td>DET LOICA MCHEF 5LT</td>\n",
       "      <td>DETERGENTE LOIÇA</td>\n",
       "      <td>1</td>\n",
       "    </tr>\n",
       "  </tbody>\n",
       "</table>\n",
       "</div>"
      ],
      "text/plain": [
       "      ID Product                      Product Description  \\\n",
       "101        53425             ARROZ AGULHA MASTERCHEF 5 KG   \n",
       "575       370149            CENOURA SC10KG (CAL25/40) RCH   \n",
       "907       578318               OLEO ALIMENTAR MCHEF 10 LT   \n",
       "974       621958               LEITE MCHEF UHT M/GORDO LT   \n",
       "1083      659149             FARINHA AMANH S/FERMENTO 1KG   \n",
       "1113      665738  VINAGRE AMANHECER DE VINHO BRANCO 1000M   \n",
       "1482      733725                 OVO AGRO OVO M 15DUZ IND   \n",
       "2452      879894                  ACUCAR AMANH BCO PAP KG   \n",
       "2555      890937            LIXIVIA MCHEF TRADICIONAL 5LT   \n",
       "2897      915237                      DET LOICA MCHEF 5LT   \n",
       "\n",
       "        ID Product Category  Own Brand  \n",
       "101                   ARROZ          1  \n",
       "575         LEGUMES FRESCOS          1  \n",
       "907                   ÓLEOS          1  \n",
       "974       LEITE UHT REGULAR          1  \n",
       "1083               FARINHAS          0  \n",
       "1113               VINAGRES          1  \n",
       "1482            OVOS GAIOLA          0  \n",
       "2452                 AÇÚCAR          0  \n",
       "2555  LIXÍVIAS TRADICIONAIS          1  \n",
       "2897       DETERGENTE LOIÇA          1  "
      ]
     },
     "execution_count": 76,
     "metadata": {},
     "output_type": "execute_result"
    }
   ],
   "source": [
    "top10 = products[products['ID Product'].isin(top10_IDs)]\n",
    "top10"
   ]
  },
  {
   "cell_type": "markdown",
   "id": "fa26fb16",
   "metadata": {},
   "source": [
    "For clients without any transaction history, the top 10 recommended products list will update dynamically over time to reflect the most recent trends in the last 30 days."
   ]
  },
  {
   "cell_type": "markdown",
   "id": "3784b7b0",
   "metadata": {},
   "source": [
    "<hr>\n",
    "<a class=\"anchor\" id=\"export\">\n",
    "\n",
    "## 3. Export\n",
    "</a>"
   ]
  },
  {
   "cell_type": "code",
   "execution_count": 77,
   "id": "d3113458",
   "metadata": {},
   "outputs": [],
   "source": [
    "top10.to_csv('../Data/recommendations_clients_no_transactions.csv', index=False)"
   ]
  }
 ],
 "metadata": {
  "kernelspec": {
   "display_name": "base",
   "language": "python",
   "name": "python3"
  },
  "language_info": {
   "codemirror_mode": {
    "name": "ipython",
    "version": 3
   },
   "file_extension": ".py",
   "mimetype": "text/x-python",
   "name": "python",
   "nbconvert_exporter": "python",
   "pygments_lexer": "ipython3",
   "version": "3.12.3"
  }
 },
 "nbformat": 4,
 "nbformat_minor": 5
}
