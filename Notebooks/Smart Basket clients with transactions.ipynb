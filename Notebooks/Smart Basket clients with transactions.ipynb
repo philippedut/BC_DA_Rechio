{
 "cells": [
  {
   "cell_type": "markdown",
   "id": "0e7f20ff",
   "metadata": {},
   "source": [
    "# **BUSINESS CASE 3: Recheio Recommendation System**  \n",
    "\n",
    "\n",
    "## 🎓 Master’s Program in Data Science & Advanced Analytics \n",
    "**Nova IMS** | March 2025   \n",
    "**Course:** Business Cases with Data Science\n",
    "\n",
    "## 👥 Team **Group A**  \n",
    "- **Alice Viegas** | 20240572  \n",
    "- **Bernardo Faria** | 20240579  \n",
    "- **Dinis Pinto** | 20240612  \n",
    "- **Daan van Holten** | 20240681\n",
    "- **Philippe Dutranoit** | 20240518"
   ]
  },
  {
   "cell_type": "markdown",
   "id": "f6b3c237",
   "metadata": {},
   "source": [
    "## 📊 Project Overview  \n",
    "This notebook utilizes the following datasets:  \n",
    "- Case3_Recheio_2025 (1).xlsx <br>\n",
    "- The goal of the project is to design a recomendation system so that the company can propose better products to existing costumers."
   ]
  },
  {
   "cell_type": "markdown",
   "id": "b0385ba0",
   "metadata": {},
   "source": [
    "## 📊 Goal of the notebook\n",
    "\n",
    "In this notebook we will build a smart basket for existing clients. <br>"
   ]
  },
  {
   "cell_type": "code",
   "execution_count": 8,
   "id": "69f72dbc",
   "metadata": {},
   "outputs": [],
   "source": [
    "import os\n",
    "import pandas as pd\n",
    "import numpy as np\n",
    "from sklearn.metrics import pairwise_distances\n",
    "import random"
   ]
  },
  {
   "cell_type": "code",
   "execution_count": 9,
   "id": "9454f979",
   "metadata": {},
   "outputs": [],
   "source": [
    "# Global definitions\n",
    "baseFolder = os.getcwd()\n",
    "exportsFolder = baseFolder + os.sep +'Exports' + os.sep"
   ]
  },
  {
   "cell_type": "code",
   "execution_count": 10,
   "id": "1293d888",
   "metadata": {},
   "outputs": [
    {
     "name": "stdout",
     "output_type": "stream",
     "text": [
      "Number of unique clients: 1529\n"
     ]
    }
   ],
   "source": [
    "transactions = pd.read_csv('../Data/df.csv')\n",
    "print(\"Number of unique clients:\", transactions['Client ID'].nunique())"
   ]
  },
  {
   "cell_type": "code",
   "execution_count": 11,
   "id": "1a755605",
   "metadata": {},
   "outputs": [
    {
     "name": "stdout",
     "output_type": "stream",
     "text": [
      "<class 'pandas.core.frame.DataFrame'>\n",
      "RangeIndex: 884099 entries, 0 to 884098\n",
      "Data columns (total 8 columns):\n",
      " #   Column               Non-Null Count   Dtype \n",
      "---  ------               --------------   ----- \n",
      " 0   Date                 884099 non-null  object\n",
      " 1   Client ID            884099 non-null  int64 \n",
      " 2   ZIP Code             884099 non-null  int64 \n",
      " 3   ID Client Type       389817 non-null  object\n",
      " 4   ID Product           884099 non-null  int64 \n",
      " 5   Product Description  884099 non-null  object\n",
      " 6   ID Product Category  884099 non-null  object\n",
      " 7   Own Brand            884099 non-null  int64 \n",
      "dtypes: int64(4), object(4)\n",
      "memory usage: 54.0+ MB\n",
      "Number of unique clients: 1529\n"
     ]
    }
   ],
   "source": [
    "transactions.info()\n",
    "print(\"Number of unique clients:\", transactions['Client ID'].nunique())"
   ]
  },
  {
   "cell_type": "markdown",
   "id": "315eadc3",
   "metadata": {},
   "source": [
    "We will build a smart basket based on the following 2 criteria:\n",
    "- items previously purchased by the client\n",
    "- items similar to the ones he has bought, based on cosine similarity\n",
    "\n",
    "The smart basket will incorporate 5 products from each criteria, giving 10 recommended products. In the cases where the client has not bought 5 products, there will be less recommendations, as the first criteria cannot be met.\n",
    "\n",
    "We will then do a Monte Carlo cross validation with 5 iterations. In each iteration the data will be split at a random point in time, where the train will be the data before and the test the data after that point. The client that don't meet a minimum criteria (1 transaction in the test set and 5 transactions in the train set) will be excluded from the accuracy analysis. The rest will be used to compute the mean hit rate, where the actual recommendations in the test set are compared with the predicted ones in the train set."
   ]
  },
  {
   "cell_type": "markdown",
   "id": "3aad175b",
   "metadata": {},
   "source": [
    "# Recommendation System"
   ]
  },
  {
   "cell_type": "code",
   "execution_count": 12,
   "id": "19db9b62",
   "metadata": {},
   "outputs": [],
   "source": [
    "class SmartBasketRecommenderCV:\n",
    "    def __init__(self, transactions, min_train=5, min_test=1, k=10):\n",
    "        self.transactions = transactions.copy()\n",
    "        self.k = k\n",
    "        self.min_train = min_train\n",
    "        self.min_test = min_test\n",
    "\n",
    "        self.transactions['Date'] = pd.to_datetime(self.transactions['Date'])\n",
    "\n",
    "    # this function will be used to get the top 5 products purchased by a client\n",
    "    def top_purchase_history(self, client_id, df):\n",
    "        client_data = df[df['Client ID'] == client_id]\n",
    "        top_products = (\n",
    "            client_data['ID Product']\n",
    "            .value_counts()\n",
    "            .head(5)\n",
    "            .index\n",
    "            .tolist()\n",
    "        )\n",
    "        return top_products\n",
    "\n",
    "    # this function will be used to get the top 5 products purchased by similar clients (based on cosine similarity)\n",
    "    # it also boosts the score of own brand products\n",
    "    # it uses the cosine similarity to find similar clients\n",
    "    # it then filters out the products already purchased by the target client\n",
    "    # and returns the top 5 products purchased by similar clients\n",
    "    def collaborative_recommendations(self, client_id, interaction_matrix, df, top_n_similar=5):\n",
    "        if client_id not in interaction_matrix.index:\n",
    "            return []\n",
    "\n",
    "        client_idx = interaction_matrix.index.get_loc(client_id)\n",
    "        distance_matrix = pairwise_distances(interaction_matrix, metric='cosine')\n",
    "        distances = distance_matrix[client_idx]\n",
    "        similar_indices = distances.argsort()[1:top_n_similar+1]\n",
    "        similar_clients = interaction_matrix.index[similar_indices]\n",
    "\n",
    "        similar_purchases = df[df['Client ID'].isin(similar_clients)]\n",
    "        target_purchases = df[df['Client ID'] == client_id]['ID Product'].unique()\n",
    "\n",
    "    # Filter out already purchased items\n",
    "        new_purchases = similar_purchases[~similar_purchases['ID Product'].isin(target_purchases)]\n",
    "\n",
    "    # Group by product and boost own brand\n",
    "        product_scores = (\n",
    "            new_purchases.groupby('ID Product')\n",
    "            .agg({\n",
    "                'Client ID': 'count',\n",
    "                'Own Brand': 'max'  # Assuming binary (0 or 1)\n",
    "            })\n",
    "            .rename(columns={'Client ID': 'count'})\n",
    "     )\n",
    "\n",
    "    # Boost own brand products\n",
    "        product_scores['score'] = product_scores['count'] * (1.5 * product_scores['Own Brand'] + 1)\n",
    "\n",
    "    # Return top 5\n",
    "        top_products = product_scores.sort_values(by='score', ascending=False).head(5).index.tolist()\n",
    "        return top_products\n",
    "\n",
    "    # this function gets the smart basket recommendations for a client combining the recommendations from the 2 previous functions\n",
    "    def smart_basket(self, client_id, df, interaction_matrix):\n",
    "        hist_recs = self.top_purchase_history(client_id, df)\n",
    "        collab_recs = self.collaborative_recommendations(client_id, interaction_matrix, df)\n",
    "        final_recs = hist_recs.copy()\n",
    "        for item in collab_recs:\n",
    "            if item not in final_recs:\n",
    "                final_recs.append(item)\n",
    "            if len(final_recs) == 10:\n",
    "                break\n",
    "        return final_recs\n",
    "\n",
    "    # this function calculates the precision at k for the recommendations\n",
    "    # it checks how many of the top k recommendations are in the test set\n",
    "    def precision_at_k(self, train_recs, test_items):\n",
    "        if not test_items:\n",
    "            return 0.0\n",
    "        hits = len(set(train_recs[:self.k]) & set(test_items))\n",
    "        return hits / self.k\n",
    "\n",
    "    # this function creates the interaction matrix for the transactions\n",
    "    def create_interaction_matrix(self):\n",
    "        matrix = pd.crosstab(self.transactions['Client ID'], self.transactions['ID Product'])\n",
    "        return matrix.applymap(lambda x: 1 if x > 0 else 0)\n",
    "\n",
    "    # this function performs a Monte Carlo cross-validation\n",
    "    # it randomly splits the data into training and test sets multiple times\n",
    "    # and calculates the hit rate for each iteration\n",
    "    # the function takes the number of iterations, the number of weeks to train on, and a random seed for reproducibility\n",
    "    # it returns a list of hit rates for each iteration\n",
    "    # the function also prints the mean and standard deviation of the hit rates\n",
    "    def monte_carlo_cv(self, iterations=5, weeks_train=45, random_seed=42):\n",
    "        hit_rates_all = []\n",
    "\n",
    "        for i in range(iterations):\n",
    "            earliest = self.transactions['Date'].min()\n",
    "            latest = self.transactions['Date'].max() - pd.to_timedelta(weeks_train, unit='w')\n",
    "            random_start = earliest + (latest - earliest) * random.random()\n",
    "            split_date = pd.to_datetime(random_start) + pd.to_timedelta(weeks_train, unit='w')\n",
    "\n",
    "            self.transactions['train_split'] = (self.transactions['Date'] <= split_date).astype(int)\n",
    "            train_set = self.transactions[self.transactions['train_split'] == 1]\n",
    "            test_set = self.transactions[self.transactions['train_split'] == 0]\n",
    "\n",
    "            interaction_matrix = pd.crosstab(self.transactions['Client ID'], self.transactions['ID Product'])\n",
    "            interaction_matrix = interaction_matrix.applymap(lambda x: 1 if x > 0 else 0)\n",
    "\n",
    "            valid_clients = []\n",
    "            for client_id in self.transactions['Client ID'].unique():\n",
    "                if (train_set[train_set['Client ID'] == client_id].shape[0] >= self.min_train and\n",
    "                    test_set[test_set['Client ID'] == client_id].shape[0] >= self.min_test):\n",
    "                    valid_clients.append(client_id)\n",
    "\n",
    "            hit_rates = []\n",
    "            for client_id in valid_clients:\n",
    "                train_recs = self.smart_basket(client_id, train_set, interaction_matrix)\n",
    "                test_items = test_set[test_set['Client ID'] == client_id]['ID Product'].unique().tolist()\n",
    "                hit = self.precision_at_k(train_recs, test_items)\n",
    "                hit_rates.append(hit)\n",
    "\n",
    "            mean_hit = np.mean(hit_rates)\n",
    "            hit_rates_all.append(mean_hit)\n",
    "            print(f\"Iteration {i+1}: Hit Rate = {mean_hit:.2%}\")\n",
    "\n",
    "        print(f\"\\nFinal Hit Rate: {np.mean(hit_rates_all):.2%} ± {np.std(hit_rates_all):.2%}\")\n",
    "        return hit_rates_all\n"
   ]
  },
  {
   "cell_type": "markdown",
   "id": "e1290468",
   "metadata": {},
   "source": [
    "# Performance of the model"
   ]
  },
  {
   "cell_type": "markdown",
   "id": "e1efd420",
   "metadata": {},
   "source": [
    "To evaluate the performance of the recommendation model, Monte Carlo cross-validation was applied by repeatedly splitting the transaction data into training and testing sets. For each iteration, the recommender system generated product suggestions based on the training data, and its accuracy was assessed using the hit rate — the proportion of test set products that appeared in the recommended list. Averaging hit rates over multiple random splits provides a robust estimate of how well the model is likely to perform in real-world scenarios, helping to avoid overfitting to a single data partition."
   ]
  },
  {
   "cell_type": "code",
   "execution_count": 13,
   "id": "74c8e6cd",
   "metadata": {},
   "outputs": [
    {
     "name": "stderr",
     "output_type": "stream",
     "text": [
      "/var/folders/r9/s729j1ks2qnfdsvlt9fwmqv40000gn/T/ipykernel_4973/252414252.py:105: FutureWarning: DataFrame.applymap has been deprecated. Use DataFrame.map instead.\n",
      "  interaction_matrix = interaction_matrix.applymap(lambda x: 1 if x > 0 else 0)\n"
     ]
    },
    {
     "name": "stdout",
     "output_type": "stream",
     "text": [
      "Iteration 1: Hit Rate = 34.90%\n"
     ]
    },
    {
     "name": "stderr",
     "output_type": "stream",
     "text": [
      "/var/folders/r9/s729j1ks2qnfdsvlt9fwmqv40000gn/T/ipykernel_4973/252414252.py:105: FutureWarning: DataFrame.applymap has been deprecated. Use DataFrame.map instead.\n",
      "  interaction_matrix = interaction_matrix.applymap(lambda x: 1 if x > 0 else 0)\n"
     ]
    },
    {
     "name": "stdout",
     "output_type": "stream",
     "text": [
      "Iteration 2: Hit Rate = 39.33%\n"
     ]
    },
    {
     "name": "stderr",
     "output_type": "stream",
     "text": [
      "/var/folders/r9/s729j1ks2qnfdsvlt9fwmqv40000gn/T/ipykernel_4973/252414252.py:105: FutureWarning: DataFrame.applymap has been deprecated. Use DataFrame.map instead.\n",
      "  interaction_matrix = interaction_matrix.applymap(lambda x: 1 if x > 0 else 0)\n"
     ]
    },
    {
     "name": "stdout",
     "output_type": "stream",
     "text": [
      "Iteration 3: Hit Rate = 39.95%\n"
     ]
    },
    {
     "name": "stderr",
     "output_type": "stream",
     "text": [
      "/var/folders/r9/s729j1ks2qnfdsvlt9fwmqv40000gn/T/ipykernel_4973/252414252.py:105: FutureWarning: DataFrame.applymap has been deprecated. Use DataFrame.map instead.\n",
      "  interaction_matrix = interaction_matrix.applymap(lambda x: 1 if x > 0 else 0)\n"
     ]
    },
    {
     "name": "stdout",
     "output_type": "stream",
     "text": [
      "Iteration 4: Hit Rate = 38.33%\n"
     ]
    },
    {
     "name": "stderr",
     "output_type": "stream",
     "text": [
      "/var/folders/r9/s729j1ks2qnfdsvlt9fwmqv40000gn/T/ipykernel_4973/252414252.py:105: FutureWarning: DataFrame.applymap has been deprecated. Use DataFrame.map instead.\n",
      "  interaction_matrix = interaction_matrix.applymap(lambda x: 1 if x > 0 else 0)\n"
     ]
    },
    {
     "name": "stdout",
     "output_type": "stream",
     "text": [
      "Iteration 5: Hit Rate = 36.47%\n",
      "\n",
      "Final Hit Rate: 37.80% ± 1.87%\n"
     ]
    }
   ],
   "source": [
    "recommender = SmartBasketRecommenderCV(transactions, min_train=5, min_test=1, k=10)\n",
    "hit_rates = recommender.monte_carlo_cv(iterations=5, random_seed=42)"
   ]
  },
  {
   "cell_type": "markdown",
   "id": "1f05f193",
   "metadata": {},
   "source": [
    "# Final recommendations"
   ]
  },
  {
   "cell_type": "code",
   "execution_count": 14,
   "id": "d41312f6",
   "metadata": {},
   "outputs": [
    {
     "name": "stderr",
     "output_type": "stream",
     "text": [
      "/var/folders/r9/s729j1ks2qnfdsvlt9fwmqv40000gn/T/ipykernel_4973/252414252.py:83: FutureWarning: DataFrame.applymap has been deprecated. Use DataFrame.map instead.\n",
      "  return matrix.applymap(lambda x: 1 if x > 0 else 0)\n"
     ]
    }
   ],
   "source": [
    "# getting the actual recommendations for each client\n",
    "recs = {}\n",
    "interaction_matrix = recommender.create_interaction_matrix()  \n",
    "for client_id in transactions['Client ID'].unique():\n",
    "    recs[client_id] = recommender.smart_basket(client_id, transactions, interaction_matrix)\n"
   ]
  },
  {
   "cell_type": "code",
   "execution_count": 21,
   "id": "eced2a52",
   "metadata": {},
   "outputs": [
    {
     "name": "stdout",
     "output_type": "stream",
     "text": [
      "Percentage of recommendations containing own brand: 56.95%\n",
      "Number of unique clients: 1529\n",
      "Average number of recommendations per client: 9.457815565729234\n"
     ]
    }
   ],
   "source": [
    "recs \n",
    "prod_map = transactions[['ID Product', 'Product Description']].drop_duplicates().set_index('ID Product')['Product Description'].to_dict()\n",
    "mapped_recs = {client: [(pid, prod_map.get(pid, \"Unknown\")) for pid in prod_list] for client, prod_list in recs.items()}\n",
    "\n",
    "rows = []\n",
    "for client, rec_list in mapped_recs.items():\n",
    "    for rank, (pid, desc) in enumerate(rec_list, start=1):\n",
    "        rows.append({\n",
    "            \"Client ID\": client,\n",
    "            \"Rank\": rank,\n",
    "            \"ID Product\": pid,\n",
    "            \"Product Description\": desc\n",
    "        })\n",
    "\n",
    "df_mapped_recs = pd.DataFrame(rows)\n",
    "df_own_brand = transactions[['ID Product', 'Own Brand']].drop_duplicates()\n",
    "df_mapped_recs = df_mapped_recs.merge(df_own_brand, on='ID Product', how='left')\n",
    "df_mapped_recs['Own Brand'] = df_mapped_recs['Own Brand'].fillna(0).astype(int)\n",
    "\n",
    "percentage_own_brand = df_mapped_recs['Own Brand'].mean() * 100\n",
    "print(f\"Percentage of recommendations containing own brand: {percentage_own_brand:.2f}%\") # this is the percentage of recommendations that are own brand products\n",
    "print(\"Number of unique clients:\", df_mapped_recs['Client ID'].nunique()) # form the we can see that all the clients have at least 1 recommendation\n",
    "avg_recs = df_mapped_recs.groupby(\"Client ID\").size().mean() \n",
    "print(\"Average number of recommendations per client:\", avg_recs) # this is the average number of recommendations per client"
   ]
  },
  {
   "cell_type": "code",
   "execution_count": null,
   "id": "d34c4891",
   "metadata": {},
   "outputs": [
    {
     "data": {
      "text/html": [
       "<div>\n",
       "<style scoped>\n",
       "    .dataframe tbody tr th:only-of-type {\n",
       "        vertical-align: middle;\n",
       "    }\n",
       "\n",
       "    .dataframe tbody tr th {\n",
       "        vertical-align: top;\n",
       "    }\n",
       "\n",
       "    .dataframe thead th {\n",
       "        text-align: right;\n",
       "    }\n",
       "</style>\n",
       "<table border=\"1\" class=\"dataframe\">\n",
       "  <thead>\n",
       "    <tr style=\"text-align: right;\">\n",
       "      <th></th>\n",
       "      <th>Client ID</th>\n",
       "      <th>Rank</th>\n",
       "      <th>ID Product</th>\n",
       "      <th>Product Description</th>\n",
       "      <th>Own Brand</th>\n",
       "    </tr>\n",
       "  </thead>\n",
       "  <tbody>\n",
       "    <tr>\n",
       "      <th>0</th>\n",
       "      <td>210100281</td>\n",
       "      <td>1</td>\n",
       "      <td>53429</td>\n",
       "      <td>ARROZ CAROLINO MASTERCHEF 5 KG</td>\n",
       "      <td>1</td>\n",
       "    </tr>\n",
       "    <tr>\n",
       "      <th>1</th>\n",
       "      <td>210100281</td>\n",
       "      <td>2</td>\n",
       "      <td>370149</td>\n",
       "      <td>CENOURA SC10KG (CAL25/40) RCH</td>\n",
       "      <td>1</td>\n",
       "    </tr>\n",
       "    <tr>\n",
       "      <th>2</th>\n",
       "      <td>210100281</td>\n",
       "      <td>3</td>\n",
       "      <td>278283</td>\n",
       "      <td>COUVE CORACAO DE BOI C/FOLHAS RCH</td>\n",
       "      <td>1</td>\n",
       "    </tr>\n",
       "    <tr>\n",
       "      <th>3</th>\n",
       "      <td>210100281</td>\n",
       "      <td>4</td>\n",
       "      <td>927088</td>\n",
       "      <td>POLPA TOMATE MCHEF 1LT</td>\n",
       "      <td>1</td>\n",
       "    </tr>\n",
       "    <tr>\n",
       "      <th>4</th>\n",
       "      <td>210100281</td>\n",
       "      <td>5</td>\n",
       "      <td>277674</td>\n",
       "      <td>COGUMELO BRANCO MÉDIO RCH</td>\n",
       "      <td>1</td>\n",
       "    </tr>\n",
       "    <tr>\n",
       "      <th>...</th>\n",
       "      <td>...</td>\n",
       "      <td>...</td>\n",
       "      <td>...</td>\n",
       "      <td>...</td>\n",
       "      <td>...</td>\n",
       "    </tr>\n",
       "    <tr>\n",
       "      <th>14456</th>\n",
       "      <td>210106443</td>\n",
       "      <td>6</td>\n",
       "      <td>53429</td>\n",
       "      <td>ARROZ CAROLINO MASTERCHEF 5 KG</td>\n",
       "      <td>1</td>\n",
       "    </tr>\n",
       "    <tr>\n",
       "      <th>14457</th>\n",
       "      <td>210106443</td>\n",
       "      <td>7</td>\n",
       "      <td>655701</td>\n",
       "      <td>IOG.AMANHECER TUTTI FRUTTI 125GR</td>\n",
       "      <td>1</td>\n",
       "    </tr>\n",
       "    <tr>\n",
       "      <th>14458</th>\n",
       "      <td>210106443</td>\n",
       "      <td>8</td>\n",
       "      <td>655700</td>\n",
       "      <td>IOG.AMANHECER BANANA 125GR</td>\n",
       "      <td>1</td>\n",
       "    </tr>\n",
       "    <tr>\n",
       "      <th>14459</th>\n",
       "      <td>210106443</td>\n",
       "      <td>9</td>\n",
       "      <td>915237</td>\n",
       "      <td>DET LOICA MCHEF 5LT</td>\n",
       "      <td>1</td>\n",
       "    </tr>\n",
       "    <tr>\n",
       "      <th>14460</th>\n",
       "      <td>210106443</td>\n",
       "      <td>10</td>\n",
       "      <td>53376</td>\n",
       "      <td>COGUMELOS MAST.CHEF LAMIN.780GR</td>\n",
       "      <td>1</td>\n",
       "    </tr>\n",
       "  </tbody>\n",
       "</table>\n",
       "<p>14461 rows × 5 columns</p>\n",
       "</div>"
      ],
      "text/plain": [
       "       Client ID  Rank  ID Product                Product Description  \\\n",
       "0      210100281     1       53429     ARROZ CAROLINO MASTERCHEF 5 KG   \n",
       "1      210100281     2      370149      CENOURA SC10KG (CAL25/40) RCH   \n",
       "2      210100281     3      278283  COUVE CORACAO DE BOI C/FOLHAS RCH   \n",
       "3      210100281     4      927088             POLPA TOMATE MCHEF 1LT   \n",
       "4      210100281     5      277674          COGUMELO BRANCO MÉDIO RCH   \n",
       "...          ...   ...         ...                                ...   \n",
       "14456  210106443     6       53429     ARROZ CAROLINO MASTERCHEF 5 KG   \n",
       "14457  210106443     7      655701   IOG.AMANHECER TUTTI FRUTTI 125GR   \n",
       "14458  210106443     8      655700         IOG.AMANHECER BANANA 125GR   \n",
       "14459  210106443     9      915237                DET LOICA MCHEF 5LT   \n",
       "14460  210106443    10       53376    COGUMELOS MAST.CHEF LAMIN.780GR   \n",
       "\n",
       "       Own Brand  \n",
       "0              1  \n",
       "1              1  \n",
       "2              1  \n",
       "3              1  \n",
       "4              1  \n",
       "...          ...  \n",
       "14456          1  \n",
       "14457          1  \n",
       "14458          1  \n",
       "14459          1  \n",
       "14460          1  \n",
       "\n",
       "[14461 rows x 5 columns]"
      ]
     },
     "execution_count": 26,
     "metadata": {},
     "output_type": "execute_result"
    }
   ],
   "source": [
    "df_mapped_recs    # dataframe recommendations for all clients with transaction history at the moment of the dataset."
   ]
  },
  {
   "cell_type": "markdown",
   "id": "9c3cd0c7",
   "metadata": {},
   "source": [
    "If we want to access the recommendations for a specified client we can use get_recommendation function:"
   ]
  },
  {
   "cell_type": "code",
   "execution_count": 16,
   "id": "6bd07119",
   "metadata": {},
   "outputs": [],
   "source": [
    "def get_recommendation(client_id_input):\n",
    "    if client_id_input in df_mapped_recs['Client ID'].unique():\n",
    "        return df_mapped_recs.loc[df_mapped_recs['Client ID'] == client_id_input]\n",
    "    else:\n",
    "        print(\"Client ID not found.\")\n",
    "        return pd.DataFrame()"
   ]
  },
  {
   "cell_type": "code",
   "execution_count": 28,
   "id": "505c8030",
   "metadata": {},
   "outputs": [
    {
     "data": {
      "text/html": [
       "<div>\n",
       "<style scoped>\n",
       "    .dataframe tbody tr th:only-of-type {\n",
       "        vertical-align: middle;\n",
       "    }\n",
       "\n",
       "    .dataframe tbody tr th {\n",
       "        vertical-align: top;\n",
       "    }\n",
       "\n",
       "    .dataframe thead th {\n",
       "        text-align: right;\n",
       "    }\n",
       "</style>\n",
       "<table border=\"1\" class=\"dataframe\">\n",
       "  <thead>\n",
       "    <tr style=\"text-align: right;\">\n",
       "      <th></th>\n",
       "      <th>Client ID</th>\n",
       "      <th>Rank</th>\n",
       "      <th>ID Product</th>\n",
       "      <th>Product Description</th>\n",
       "      <th>Own Brand</th>\n",
       "    </tr>\n",
       "  </thead>\n",
       "  <tbody>\n",
       "    <tr>\n",
       "      <th>14451</th>\n",
       "      <td>210106443</td>\n",
       "      <td>1</td>\n",
       "      <td>926336</td>\n",
       "      <td>V. TTO ABDEGAS 11,5% TETRA 1 LT</td>\n",
       "      <td>0</td>\n",
       "    </tr>\n",
       "    <tr>\n",
       "      <th>14452</th>\n",
       "      <td>210106443</td>\n",
       "      <td>2</td>\n",
       "      <td>659149</td>\n",
       "      <td>FARINHA AMANH S/FERMENTO 1KG</td>\n",
       "      <td>0</td>\n",
       "    </tr>\n",
       "    <tr>\n",
       "      <th>14453</th>\n",
       "      <td>210106443</td>\n",
       "      <td>3</td>\n",
       "      <td>645238</td>\n",
       "      <td>SACO PEBD MCHEF CRIS.40X60 10KG</td>\n",
       "      <td>1</td>\n",
       "    </tr>\n",
       "    <tr>\n",
       "      <th>14454</th>\n",
       "      <td>210106443</td>\n",
       "      <td>4</td>\n",
       "      <td>752025</td>\n",
       "      <td>SACO LIXO MCHEF AT 100LT 10 UN</td>\n",
       "      <td>1</td>\n",
       "    </tr>\n",
       "    <tr>\n",
       "      <th>14455</th>\n",
       "      <td>210106443</td>\n",
       "      <td>5</td>\n",
       "      <td>868736</td>\n",
       "      <td>PIMENTÃO DOCE CARMENCITA 490G PET</td>\n",
       "      <td>0</td>\n",
       "    </tr>\n",
       "    <tr>\n",
       "      <th>14456</th>\n",
       "      <td>210106443</td>\n",
       "      <td>6</td>\n",
       "      <td>53429</td>\n",
       "      <td>ARROZ CAROLINO MASTERCHEF 5 KG</td>\n",
       "      <td>1</td>\n",
       "    </tr>\n",
       "    <tr>\n",
       "      <th>14457</th>\n",
       "      <td>210106443</td>\n",
       "      <td>7</td>\n",
       "      <td>655701</td>\n",
       "      <td>IOG.AMANHECER TUTTI FRUTTI 125GR</td>\n",
       "      <td>1</td>\n",
       "    </tr>\n",
       "    <tr>\n",
       "      <th>14458</th>\n",
       "      <td>210106443</td>\n",
       "      <td>8</td>\n",
       "      <td>655700</td>\n",
       "      <td>IOG.AMANHECER BANANA 125GR</td>\n",
       "      <td>1</td>\n",
       "    </tr>\n",
       "    <tr>\n",
       "      <th>14459</th>\n",
       "      <td>210106443</td>\n",
       "      <td>9</td>\n",
       "      <td>915237</td>\n",
       "      <td>DET LOICA MCHEF 5LT</td>\n",
       "      <td>1</td>\n",
       "    </tr>\n",
       "    <tr>\n",
       "      <th>14460</th>\n",
       "      <td>210106443</td>\n",
       "      <td>10</td>\n",
       "      <td>53376</td>\n",
       "      <td>COGUMELOS MAST.CHEF LAMIN.780GR</td>\n",
       "      <td>1</td>\n",
       "    </tr>\n",
       "  </tbody>\n",
       "</table>\n",
       "</div>"
      ],
      "text/plain": [
       "       Client ID  Rank  ID Product                Product Description  \\\n",
       "14451  210106443     1      926336    V. TTO ABDEGAS 11,5% TETRA 1 LT   \n",
       "14452  210106443     2      659149       FARINHA AMANH S/FERMENTO 1KG   \n",
       "14453  210106443     3      645238    SACO PEBD MCHEF CRIS.40X60 10KG   \n",
       "14454  210106443     4      752025     SACO LIXO MCHEF AT 100LT 10 UN   \n",
       "14455  210106443     5      868736  PIMENTÃO DOCE CARMENCITA 490G PET   \n",
       "14456  210106443     6       53429     ARROZ CAROLINO MASTERCHEF 5 KG   \n",
       "14457  210106443     7      655701   IOG.AMANHECER TUTTI FRUTTI 125GR   \n",
       "14458  210106443     8      655700         IOG.AMANHECER BANANA 125GR   \n",
       "14459  210106443     9      915237                DET LOICA MCHEF 5LT   \n",
       "14460  210106443    10       53376    COGUMELOS MAST.CHEF LAMIN.780GR   \n",
       "\n",
       "       Own Brand  \n",
       "14451          0  \n",
       "14452          0  \n",
       "14453          1  \n",
       "14454          1  \n",
       "14455          0  \n",
       "14456          1  \n",
       "14457          1  \n",
       "14458          1  \n",
       "14459          1  \n",
       "14460          1  "
      ]
     },
     "execution_count": 28,
     "metadata": {},
     "output_type": "execute_result"
    }
   ],
   "source": [
    "# Example of usage:\n",
    "\n",
    "client_id_input = 210106443\n",
    "get_recommendation(client_id_input)"
   ]
  },
  {
   "cell_type": "markdown",
   "id": "ba24c4a4",
   "metadata": {},
   "source": [
    "# Export"
   ]
  },
  {
   "cell_type": "code",
   "execution_count": 27,
   "id": "29e6e5c8",
   "metadata": {},
   "outputs": [],
   "source": [
    "df_mapped_recs.to_csv('../Data/recommendations_clients_with_transactions.csv', index=False)"
   ]
  },
  {
   "cell_type": "code",
   "execution_count": null,
   "id": "2e2254cb",
   "metadata": {},
   "outputs": [],
   "source": []
  }
 ],
 "metadata": {
  "kernelspec": {
   "display_name": "base",
   "language": "python",
   "name": "python3"
  },
  "language_info": {
   "codemirror_mode": {
    "name": "ipython",
    "version": 3
   },
   "file_extension": ".py",
   "mimetype": "text/x-python",
   "name": "python",
   "nbconvert_exporter": "python",
   "pygments_lexer": "ipython3",
   "version": "3.12.3"
  }
 },
 "nbformat": 4,
 "nbformat_minor": 5
}
